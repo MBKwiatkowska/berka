{
 "cells": [
  {
   "cell_type": "code",
   "execution_count": 1,
   "metadata": {},
   "outputs": [],
   "source": [
    "import numpy as np\n",
    "import pandas as pd\n",
    "import datetime\n",
    "\n",
    "%matplotlib inline\n",
    "import matplotlib\n",
    "import matplotlib.pyplot as plt\n",
    "#matplotlib.rcParams['figure.figsize'] = (12,8)"
   ]
  },
  {
   "cell_type": "code",
   "execution_count": 2,
   "metadata": {},
   "outputs": [],
   "source": [
    "# reference dates.\n",
    "start_date = datetime.datetime(1993,1,1)\n",
    "end_date = datetime.datetime(2000,1,1)"
   ]
  },
  {
   "cell_type": "code",
   "execution_count": 3,
   "metadata": {},
   "outputs": [],
   "source": [
    "# function for plotting histogram.\n",
    "def histogram(df, col_name, bins):\n",
    "    plt.hist(df[col_name], alpha=0.5, label=col_name, bins=bins)\n",
    "    plt.legend(loc='upper right')\n",
    "    plt.show()\n",
    "\n",
    "# function to convert a date to age at end_date.\n",
    "def convert_to_age_days(x):\n",
    "    td = end_date - x\n",
    "    return td.days\n",
    "\n",
    "# function to convert a date to days after start_date.\n",
    "def convert_date_to_days(x):\n",
    "    td = x - start_date\n",
    "    return td.days"
   ]
  },
  {
   "cell_type": "code",
   "execution_count": 4,
   "metadata": {},
   "outputs": [
    {
     "data": {
      "text/html": [
       "<div>\n",
       "<style scoped>\n",
       "    .dataframe tbody tr th:only-of-type {\n",
       "        vertical-align: middle;\n",
       "    }\n",
       "\n",
       "    .dataframe tbody tr th {\n",
       "        vertical-align: top;\n",
       "    }\n",
       "\n",
       "    .dataframe thead th {\n",
       "        text-align: right;\n",
       "    }\n",
       "</style>\n",
       "<table border=\"1\" class=\"dataframe\">\n",
       "  <thead>\n",
       "    <tr style=\"text-align: right;\">\n",
       "      <th></th>\n",
       "      <th>card_id</th>\n",
       "      <th>disp_id</th>\n",
       "      <th>type</th>\n",
       "      <th>issued</th>\n",
       "    </tr>\n",
       "  </thead>\n",
       "  <tbody>\n",
       "    <tr>\n",
       "      <th>0</th>\n",
       "      <td>1005</td>\n",
       "      <td>9285</td>\n",
       "      <td>classic</td>\n",
       "      <td>931107 00:00:00</td>\n",
       "    </tr>\n",
       "    <tr>\n",
       "      <th>1</th>\n",
       "      <td>104</td>\n",
       "      <td>588</td>\n",
       "      <td>classic</td>\n",
       "      <td>940119 00:00:00</td>\n",
       "    </tr>\n",
       "    <tr>\n",
       "      <th>2</th>\n",
       "      <td>747</td>\n",
       "      <td>4915</td>\n",
       "      <td>classic</td>\n",
       "      <td>940205 00:00:00</td>\n",
       "    </tr>\n",
       "    <tr>\n",
       "      <th>3</th>\n",
       "      <td>70</td>\n",
       "      <td>439</td>\n",
       "      <td>classic</td>\n",
       "      <td>940208 00:00:00</td>\n",
       "    </tr>\n",
       "    <tr>\n",
       "      <th>4</th>\n",
       "      <td>577</td>\n",
       "      <td>3687</td>\n",
       "      <td>classic</td>\n",
       "      <td>940215 00:00:00</td>\n",
       "    </tr>\n",
       "  </tbody>\n",
       "</table>\n",
       "</div>"
      ],
      "text/plain": [
       "   card_id  disp_id     type           issued\n",
       "0     1005     9285  classic  931107 00:00:00\n",
       "1      104      588  classic  940119 00:00:00\n",
       "2      747     4915  classic  940205 00:00:00\n",
       "3       70      439  classic  940208 00:00:00\n",
       "4      577     3687  classic  940215 00:00:00"
      ]
     },
     "execution_count": 4,
     "metadata": {},
     "output_type": "execute_result"
    }
   ],
   "source": [
    "# read in card dataset.\n",
    "card_df = pd.read_csv('data/card.asc', sep=';')\n",
    "card_df.head()"
   ]
  },
  {
   "cell_type": "code",
   "execution_count": 5,
   "metadata": {},
   "outputs": [
    {
     "data": {
      "text/plain": [
       "card_id     int64\n",
       "disp_id     int64\n",
       "type       object\n",
       "issued     object\n",
       "dtype: object"
      ]
     },
     "execution_count": 5,
     "metadata": {},
     "output_type": "execute_result"
    }
   ],
   "source": [
    "# issued is supposed to be a date. Will convert it.\n",
    "card_df.dtypes"
   ]
  },
  {
   "cell_type": "code",
   "execution_count": 6,
   "metadata": {},
   "outputs": [],
   "source": [
    "# convert issued to datetime object.\n",
    "card_df['issued'] = pd.to_datetime(card_df['issued'].str[:6], format='%y%m%d')"
   ]
  },
  {
   "cell_type": "code",
   "execution_count": 7,
   "metadata": {},
   "outputs": [
    {
     "data": {
      "text/plain": [
       "card_id             int64\n",
       "disp_id             int64\n",
       "type               object\n",
       "issued     datetime64[ns]\n",
       "dtype: object"
      ]
     },
     "execution_count": 7,
     "metadata": {},
     "output_type": "execute_result"
    }
   ],
   "source": [
    "# check datatypes after conversion.\n",
    "card_df.dtypes"
   ]
  },
  {
   "cell_type": "code",
   "execution_count": 8,
   "metadata": {},
   "outputs": [
    {
     "data": {
      "text/plain": [
       "0"
      ]
     },
     "execution_count": 8,
     "metadata": {},
     "output_type": "execute_result"
    }
   ],
   "source": [
    "# check converted column for any null values.\n",
    "card_df['issued'].isnull().sum()"
   ]
  },
  {
   "cell_type": "code",
   "execution_count": 9,
   "metadata": {},
   "outputs": [],
   "source": [
    "# convert date to days.\n",
    "card_df['card_issued_date'] = card_df['issued'].map(convert_date_to_days)\n",
    "del card_df['issued']"
   ]
  },
  {
   "cell_type": "code",
   "execution_count": 10,
   "metadata": {},
   "outputs": [
    {
     "data": {
      "text/plain": [
       "card_id              int64\n",
       "disp_id              int64\n",
       "type                object\n",
       "card_issued_date     int64\n",
       "dtype: object"
      ]
     },
     "execution_count": 10,
     "metadata": {},
     "output_type": "execute_result"
    }
   ],
   "source": [
    "# card_issued_date is now an int64.\n",
    "card_df.dtypes"
   ]
  },
  {
   "cell_type": "code",
   "execution_count": 11,
   "metadata": {},
   "outputs": [
    {
     "data": {
      "text/html": [
       "<div>\n",
       "<style scoped>\n",
       "    .dataframe tbody tr th:only-of-type {\n",
       "        vertical-align: middle;\n",
       "    }\n",
       "\n",
       "    .dataframe tbody tr th {\n",
       "        vertical-align: top;\n",
       "    }\n",
       "\n",
       "    .dataframe thead th {\n",
       "        text-align: right;\n",
       "    }\n",
       "</style>\n",
       "<table border=\"1\" class=\"dataframe\">\n",
       "  <thead>\n",
       "    <tr style=\"text-align: right;\">\n",
       "      <th></th>\n",
       "      <th>card_id</th>\n",
       "      <th>disp_id</th>\n",
       "      <th>card_type</th>\n",
       "      <th>card_issued_date</th>\n",
       "    </tr>\n",
       "  </thead>\n",
       "  <tbody>\n",
       "    <tr>\n",
       "      <th>0</th>\n",
       "      <td>1005</td>\n",
       "      <td>9285</td>\n",
       "      <td>classic</td>\n",
       "      <td>310</td>\n",
       "    </tr>\n",
       "    <tr>\n",
       "      <th>1</th>\n",
       "      <td>104</td>\n",
       "      <td>588</td>\n",
       "      <td>classic</td>\n",
       "      <td>383</td>\n",
       "    </tr>\n",
       "    <tr>\n",
       "      <th>2</th>\n",
       "      <td>747</td>\n",
       "      <td>4915</td>\n",
       "      <td>classic</td>\n",
       "      <td>400</td>\n",
       "    </tr>\n",
       "    <tr>\n",
       "      <th>3</th>\n",
       "      <td>70</td>\n",
       "      <td>439</td>\n",
       "      <td>classic</td>\n",
       "      <td>403</td>\n",
       "    </tr>\n",
       "    <tr>\n",
       "      <th>4</th>\n",
       "      <td>577</td>\n",
       "      <td>3687</td>\n",
       "      <td>classic</td>\n",
       "      <td>410</td>\n",
       "    </tr>\n",
       "  </tbody>\n",
       "</table>\n",
       "</div>"
      ],
      "text/plain": [
       "   card_id  disp_id card_type  card_issued_date\n",
       "0     1005     9285   classic               310\n",
       "1      104      588   classic               383\n",
       "2      747     4915   classic               400\n",
       "3       70      439   classic               403\n",
       "4      577     3687   classic               410"
      ]
     },
     "execution_count": 11,
     "metadata": {},
     "output_type": "execute_result"
    }
   ],
   "source": [
    "# rename columns to better names.\n",
    "card_df = card_df.rename(columns={'type': 'card_type'})\n",
    "card_df.head()"
   ]
  },
  {
   "cell_type": "code",
   "execution_count": 12,
   "metadata": {},
   "outputs": [
    {
     "data": {
      "text/html": [
       "<div>\n",
       "<style scoped>\n",
       "    .dataframe tbody tr th:only-of-type {\n",
       "        vertical-align: middle;\n",
       "    }\n",
       "\n",
       "    .dataframe tbody tr th {\n",
       "        vertical-align: top;\n",
       "    }\n",
       "\n",
       "    .dataframe thead th {\n",
       "        text-align: right;\n",
       "    }\n",
       "</style>\n",
       "<table border=\"1\" class=\"dataframe\">\n",
       "  <thead>\n",
       "    <tr style=\"text-align: right;\">\n",
       "      <th></th>\n",
       "      <th>client_id</th>\n",
       "      <th>birth_number</th>\n",
       "      <th>client_district_id</th>\n",
       "    </tr>\n",
       "  </thead>\n",
       "  <tbody>\n",
       "    <tr>\n",
       "      <th>0</th>\n",
       "      <td>1</td>\n",
       "      <td>706213</td>\n",
       "      <td>18</td>\n",
       "    </tr>\n",
       "    <tr>\n",
       "      <th>1</th>\n",
       "      <td>2</td>\n",
       "      <td>450204</td>\n",
       "      <td>1</td>\n",
       "    </tr>\n",
       "    <tr>\n",
       "      <th>2</th>\n",
       "      <td>3</td>\n",
       "      <td>406009</td>\n",
       "      <td>1</td>\n",
       "    </tr>\n",
       "    <tr>\n",
       "      <th>3</th>\n",
       "      <td>4</td>\n",
       "      <td>561201</td>\n",
       "      <td>5</td>\n",
       "    </tr>\n",
       "    <tr>\n",
       "      <th>4</th>\n",
       "      <td>5</td>\n",
       "      <td>605703</td>\n",
       "      <td>5</td>\n",
       "    </tr>\n",
       "  </tbody>\n",
       "</table>\n",
       "</div>"
      ],
      "text/plain": [
       "   client_id  birth_number  client_district_id\n",
       "0          1        706213                  18\n",
       "1          2        450204                   1\n",
       "2          3        406009                   1\n",
       "3          4        561201                   5\n",
       "4          5        605703                   5"
      ]
     },
     "execution_count": 12,
     "metadata": {},
     "output_type": "execute_result"
    }
   ],
   "source": [
    "# examine client dataset.\n",
    "client_df = pd.read_csv('data/client.asc', sep=';')\n",
    "client_df = client_df.rename(columns={'district_id': 'client_district_id'})\n",
    "\n",
    "client_df.head()"
   ]
  },
  {
   "cell_type": "code",
   "execution_count": 13,
   "metadata": {},
   "outputs": [
    {
     "data": {
      "text/plain": [
       "client_id             int64\n",
       "birth_number          int64\n",
       "client_district_id    int64\n",
       "dtype: object"
      ]
     },
     "execution_count": 13,
     "metadata": {},
     "output_type": "execute_result"
    }
   ],
   "source": [
    "client_df.dtypes"
   ]
  },
  {
   "cell_type": "code",
   "execution_count": 14,
   "metadata": {},
   "outputs": [],
   "source": [
    "# functions that process the format of the birth_number.\n",
    "\n",
    "# returns the middle two digits of a six digit integer.\n",
    "def get_mid2_dig(x):\n",
    "    return int(x/100) % 100\n",
    "\n",
    "# returns the month of birth_number.\n",
    "def get_month(x):\n",
    "    mth = get_mid2_dig(x)\n",
    "    if mth > 50:\n",
    "        return mth - 50\n",
    "    else:\n",
    "        return mth\n",
    "\n",
    "# returns the month of birth_number.\n",
    "def get_day(x):\n",
    "    return x % 100\n",
    "\n",
    "# returns the year of birth_number.\n",
    "def get_year(x):\n",
    "    return int(x/10000)\n",
    "\n",
    "# returns the gender by examining birth_number.\n",
    "def get_gender(x):\n",
    "    mth = get_mid2_dig(x)\n",
    "    if mth > 50:\n",
    "        return 'F'\n",
    "    else:\n",
    "        return 'M'\n",
    "\n",
    "# converts the birth_number into a date.\n",
    "def convert_int_to_date(x):\n",
    "    yr = get_year(x) + 1900\n",
    "    mth = get_month(x)\n",
    "    day = get_day(x)\n",
    "    return datetime.datetime(yr, mth, day)\n",
    "\n",
    "# converts birth_number into age.\n",
    "def convert_birthday_to_age(x):\n",
    "    yr = get_year(x) + 1900\n",
    "    mth = get_month(x)\n",
    "    day = get_day(x)\n",
    "    return convert_to_age_days(datetime.datetime(yr,mth,day))/365\n",
    "    \n",
    "client_df['client_age'] = client_df['birth_number'].map(convert_birthday_to_age)\n",
    "client_df['client_gender'] = client_df['birth_number'].map(get_gender)\n",
    "del client_df['birth_number']\n"
   ]
  },
  {
   "cell_type": "code",
   "execution_count": 15,
   "metadata": {},
   "outputs": [
    {
     "data": {
      "text/html": [
       "<div>\n",
       "<style scoped>\n",
       "    .dataframe tbody tr th:only-of-type {\n",
       "        vertical-align: middle;\n",
       "    }\n",
       "\n",
       "    .dataframe tbody tr th {\n",
       "        vertical-align: top;\n",
       "    }\n",
       "\n",
       "    .dataframe thead th {\n",
       "        text-align: right;\n",
       "    }\n",
       "</style>\n",
       "<table border=\"1\" class=\"dataframe\">\n",
       "  <thead>\n",
       "    <tr style=\"text-align: right;\">\n",
       "      <th></th>\n",
       "      <th>client_id</th>\n",
       "      <th>client_district_id</th>\n",
       "      <th>client_age</th>\n",
       "      <th>client_gender</th>\n",
       "    </tr>\n",
       "  </thead>\n",
       "  <tbody>\n",
       "    <tr>\n",
       "      <th>0</th>\n",
       "      <td>1</td>\n",
       "      <td>18</td>\n",
       "      <td>29.071233</td>\n",
       "      <td>F</td>\n",
       "    </tr>\n",
       "    <tr>\n",
       "      <th>1</th>\n",
       "      <td>2</td>\n",
       "      <td>1</td>\n",
       "      <td>54.942466</td>\n",
       "      <td>M</td>\n",
       "    </tr>\n",
       "    <tr>\n",
       "      <th>2</th>\n",
       "      <td>3</td>\n",
       "      <td>1</td>\n",
       "      <td>59.268493</td>\n",
       "      <td>F</td>\n",
       "    </tr>\n",
       "    <tr>\n",
       "      <th>3</th>\n",
       "      <td>4</td>\n",
       "      <td>5</td>\n",
       "      <td>43.112329</td>\n",
       "      <td>M</td>\n",
       "    </tr>\n",
       "    <tr>\n",
       "      <th>4</th>\n",
       "      <td>5</td>\n",
       "      <td>5</td>\n",
       "      <td>39.523288</td>\n",
       "      <td>F</td>\n",
       "    </tr>\n",
       "  </tbody>\n",
       "</table>\n",
       "</div>"
      ],
      "text/plain": [
       "   client_id  client_district_id  client_age client_gender\n",
       "0          1                  18   29.071233             F\n",
       "1          2                   1   54.942466             M\n",
       "2          3                   1   59.268493             F\n",
       "3          4                   5   43.112329             M\n",
       "4          5                   5   39.523288             F"
      ]
     },
     "execution_count": 15,
     "metadata": {},
     "output_type": "execute_result"
    }
   ],
   "source": [
    "client_df.head()"
   ]
  },
  {
   "cell_type": "code",
   "execution_count": 16,
   "metadata": {},
   "outputs": [
    {
     "data": {
      "text/html": [
       "<div>\n",
       "<style scoped>\n",
       "    .dataframe tbody tr th:only-of-type {\n",
       "        vertical-align: middle;\n",
       "    }\n",
       "\n",
       "    .dataframe tbody tr th {\n",
       "        vertical-align: top;\n",
       "    }\n",
       "\n",
       "    .dataframe thead th {\n",
       "        text-align: right;\n",
       "    }\n",
       "</style>\n",
       "<table border=\"1\" class=\"dataframe\">\n",
       "  <thead>\n",
       "    <tr style=\"text-align: right;\">\n",
       "      <th></th>\n",
       "      <th>account_id</th>\n",
       "      <th>account_district_id</th>\n",
       "      <th>frequency</th>\n",
       "      <th>date</th>\n",
       "    </tr>\n",
       "  </thead>\n",
       "  <tbody>\n",
       "    <tr>\n",
       "      <th>0</th>\n",
       "      <td>576</td>\n",
       "      <td>55</td>\n",
       "      <td>POPLATEK MESICNE</td>\n",
       "      <td>930101</td>\n",
       "    </tr>\n",
       "    <tr>\n",
       "      <th>1</th>\n",
       "      <td>3818</td>\n",
       "      <td>74</td>\n",
       "      <td>POPLATEK MESICNE</td>\n",
       "      <td>930101</td>\n",
       "    </tr>\n",
       "    <tr>\n",
       "      <th>2</th>\n",
       "      <td>704</td>\n",
       "      <td>55</td>\n",
       "      <td>POPLATEK MESICNE</td>\n",
       "      <td>930101</td>\n",
       "    </tr>\n",
       "    <tr>\n",
       "      <th>3</th>\n",
       "      <td>2378</td>\n",
       "      <td>16</td>\n",
       "      <td>POPLATEK MESICNE</td>\n",
       "      <td>930101</td>\n",
       "    </tr>\n",
       "    <tr>\n",
       "      <th>4</th>\n",
       "      <td>2632</td>\n",
       "      <td>24</td>\n",
       "      <td>POPLATEK MESICNE</td>\n",
       "      <td>930102</td>\n",
       "    </tr>\n",
       "  </tbody>\n",
       "</table>\n",
       "</div>"
      ],
      "text/plain": [
       "   account_id  account_district_id         frequency    date\n",
       "0         576                   55  POPLATEK MESICNE  930101\n",
       "1        3818                   74  POPLATEK MESICNE  930101\n",
       "2         704                   55  POPLATEK MESICNE  930101\n",
       "3        2378                   16  POPLATEK MESICNE  930101\n",
       "4        2632                   24  POPLATEK MESICNE  930102"
      ]
     },
     "execution_count": 16,
     "metadata": {},
     "output_type": "execute_result"
    }
   ],
   "source": [
    "account_df = pd.read_csv('data/account.asc', sep=';')\n",
    "account_df = account_df.rename(columns={'district_id': 'account_district_id'})\n",
    "\n",
    "account_df.head()"
   ]
  },
  {
   "cell_type": "code",
   "execution_count": 17,
   "metadata": {},
   "outputs": [],
   "source": [
    "account_df['date'] = account_df['date'].map(convert_int_to_date)\n",
    "account_df['account_date_opened'] = account_df['date'].map(convert_date_to_days)\n",
    "del account_df['date']"
   ]
  },
  {
   "cell_type": "code",
   "execution_count": 18,
   "metadata": {},
   "outputs": [
    {
     "data": {
      "text/html": [
       "<div>\n",
       "<style scoped>\n",
       "    .dataframe tbody tr th:only-of-type {\n",
       "        vertical-align: middle;\n",
       "    }\n",
       "\n",
       "    .dataframe tbody tr th {\n",
       "        vertical-align: top;\n",
       "    }\n",
       "\n",
       "    .dataframe thead th {\n",
       "        text-align: right;\n",
       "    }\n",
       "</style>\n",
       "<table border=\"1\" class=\"dataframe\">\n",
       "  <thead>\n",
       "    <tr style=\"text-align: right;\">\n",
       "      <th></th>\n",
       "      <th>account_id</th>\n",
       "      <th>account_district_id</th>\n",
       "      <th>frequency</th>\n",
       "      <th>account_date_opened</th>\n",
       "    </tr>\n",
       "  </thead>\n",
       "  <tbody>\n",
       "    <tr>\n",
       "      <th>0</th>\n",
       "      <td>576</td>\n",
       "      <td>55</td>\n",
       "      <td>POPLATEK MESICNE</td>\n",
       "      <td>0</td>\n",
       "    </tr>\n",
       "    <tr>\n",
       "      <th>1</th>\n",
       "      <td>3818</td>\n",
       "      <td>74</td>\n",
       "      <td>POPLATEK MESICNE</td>\n",
       "      <td>0</td>\n",
       "    </tr>\n",
       "    <tr>\n",
       "      <th>2</th>\n",
       "      <td>704</td>\n",
       "      <td>55</td>\n",
       "      <td>POPLATEK MESICNE</td>\n",
       "      <td>0</td>\n",
       "    </tr>\n",
       "    <tr>\n",
       "      <th>3</th>\n",
       "      <td>2378</td>\n",
       "      <td>16</td>\n",
       "      <td>POPLATEK MESICNE</td>\n",
       "      <td>0</td>\n",
       "    </tr>\n",
       "    <tr>\n",
       "      <th>4</th>\n",
       "      <td>2632</td>\n",
       "      <td>24</td>\n",
       "      <td>POPLATEK MESICNE</td>\n",
       "      <td>1</td>\n",
       "    </tr>\n",
       "  </tbody>\n",
       "</table>\n",
       "</div>"
      ],
      "text/plain": [
       "   account_id  account_district_id         frequency  account_date_opened\n",
       "0         576                   55  POPLATEK MESICNE                    0\n",
       "1        3818                   74  POPLATEK MESICNE                    0\n",
       "2         704                   55  POPLATEK MESICNE                    0\n",
       "3        2378                   16  POPLATEK MESICNE                    0\n",
       "4        2632                   24  POPLATEK MESICNE                    1"
      ]
     },
     "execution_count": 18,
     "metadata": {},
     "output_type": "execute_result"
    }
   ],
   "source": [
    "account_df.head()"
   ]
  },
  {
   "cell_type": "code",
   "execution_count": 19,
   "metadata": {},
   "outputs": [
    {
     "data": {
      "text/plain": [
       "POPLATEK MESICNE      4167\n",
       "POPLATEK TYDNE         240\n",
       "POPLATEK PO OBRATU      93\n",
       "Name: frequency, dtype: int64"
      ]
     },
     "execution_count": 19,
     "metadata": {},
     "output_type": "execute_result"
    }
   ],
   "source": [
    "account_df['frequency'].value_counts()"
   ]
  },
  {
   "cell_type": "code",
   "execution_count": 20,
   "metadata": {},
   "outputs": [],
   "source": [
    "# translate frequency to english.\n",
    "def convert_freq_to_eng(x):\n",
    "    if x == 'POPLATEK MESICNE':\n",
    "        return 'MONTHLY'\n",
    "    elif x == 'POPLATEK TYDNE':\n",
    "        return 'WEEKLY'\n",
    "    elif x == 'POPLATEK PO OBRATU':\n",
    "        return 'TRANSACTION'\n",
    "    else:\n",
    "        return 'UNKNOWN'\n",
    "    \n",
    "account_df['frequency'] = account_df['frequency'].map(convert_freq_to_eng)"
   ]
  },
  {
   "cell_type": "code",
   "execution_count": 21,
   "metadata": {},
   "outputs": [
    {
     "data": {
      "text/html": [
       "<div>\n",
       "<style scoped>\n",
       "    .dataframe tbody tr th:only-of-type {\n",
       "        vertical-align: middle;\n",
       "    }\n",
       "\n",
       "    .dataframe tbody tr th {\n",
       "        vertical-align: top;\n",
       "    }\n",
       "\n",
       "    .dataframe thead th {\n",
       "        text-align: right;\n",
       "    }\n",
       "</style>\n",
       "<table border=\"1\" class=\"dataframe\">\n",
       "  <thead>\n",
       "    <tr style=\"text-align: right;\">\n",
       "      <th></th>\n",
       "      <th>account_id</th>\n",
       "      <th>account_district_id</th>\n",
       "      <th>statement_freq</th>\n",
       "      <th>account_date_opened</th>\n",
       "    </tr>\n",
       "  </thead>\n",
       "  <tbody>\n",
       "    <tr>\n",
       "      <th>0</th>\n",
       "      <td>576</td>\n",
       "      <td>55</td>\n",
       "      <td>MONTHLY</td>\n",
       "      <td>0</td>\n",
       "    </tr>\n",
       "    <tr>\n",
       "      <th>1</th>\n",
       "      <td>3818</td>\n",
       "      <td>74</td>\n",
       "      <td>MONTHLY</td>\n",
       "      <td>0</td>\n",
       "    </tr>\n",
       "    <tr>\n",
       "      <th>2</th>\n",
       "      <td>704</td>\n",
       "      <td>55</td>\n",
       "      <td>MONTHLY</td>\n",
       "      <td>0</td>\n",
       "    </tr>\n",
       "    <tr>\n",
       "      <th>3</th>\n",
       "      <td>2378</td>\n",
       "      <td>16</td>\n",
       "      <td>MONTHLY</td>\n",
       "      <td>0</td>\n",
       "    </tr>\n",
       "    <tr>\n",
       "      <th>4</th>\n",
       "      <td>2632</td>\n",
       "      <td>24</td>\n",
       "      <td>MONTHLY</td>\n",
       "      <td>1</td>\n",
       "    </tr>\n",
       "  </tbody>\n",
       "</table>\n",
       "</div>"
      ],
      "text/plain": [
       "   account_id  account_district_id statement_freq  account_date_opened\n",
       "0         576                   55        MONTHLY                    0\n",
       "1        3818                   74        MONTHLY                    0\n",
       "2         704                   55        MONTHLY                    0\n",
       "3        2378                   16        MONTHLY                    0\n",
       "4        2632                   24        MONTHLY                    1"
      ]
     },
     "execution_count": 21,
     "metadata": {},
     "output_type": "execute_result"
    }
   ],
   "source": [
    "account_df = account_df.rename(columns={'frequency': 'statement_freq'})\n",
    "account_df.head()\n"
   ]
  },
  {
   "cell_type": "code",
   "execution_count": 22,
   "metadata": {},
   "outputs": [
    {
     "data": {
      "text/html": [
       "<div>\n",
       "<style scoped>\n",
       "    .dataframe tbody tr th:only-of-type {\n",
       "        vertical-align: middle;\n",
       "    }\n",
       "\n",
       "    .dataframe tbody tr th {\n",
       "        vertical-align: top;\n",
       "    }\n",
       "\n",
       "    .dataframe thead th {\n",
       "        text-align: right;\n",
       "    }\n",
       "</style>\n",
       "<table border=\"1\" class=\"dataframe\">\n",
       "  <thead>\n",
       "    <tr style=\"text-align: right;\">\n",
       "      <th></th>\n",
       "      <th>disp_id</th>\n",
       "      <th>client_id</th>\n",
       "      <th>account_id</th>\n",
       "      <th>disp_type</th>\n",
       "    </tr>\n",
       "  </thead>\n",
       "  <tbody>\n",
       "    <tr>\n",
       "      <th>0</th>\n",
       "      <td>1</td>\n",
       "      <td>1</td>\n",
       "      <td>1</td>\n",
       "      <td>OWNER</td>\n",
       "    </tr>\n",
       "    <tr>\n",
       "      <th>1</th>\n",
       "      <td>2</td>\n",
       "      <td>2</td>\n",
       "      <td>2</td>\n",
       "      <td>OWNER</td>\n",
       "    </tr>\n",
       "    <tr>\n",
       "      <th>2</th>\n",
       "      <td>3</td>\n",
       "      <td>3</td>\n",
       "      <td>2</td>\n",
       "      <td>DISPONENT</td>\n",
       "    </tr>\n",
       "    <tr>\n",
       "      <th>3</th>\n",
       "      <td>4</td>\n",
       "      <td>4</td>\n",
       "      <td>3</td>\n",
       "      <td>OWNER</td>\n",
       "    </tr>\n",
       "    <tr>\n",
       "      <th>4</th>\n",
       "      <td>5</td>\n",
       "      <td>5</td>\n",
       "      <td>3</td>\n",
       "      <td>DISPONENT</td>\n",
       "    </tr>\n",
       "  </tbody>\n",
       "</table>\n",
       "</div>"
      ],
      "text/plain": [
       "   disp_id  client_id  account_id  disp_type\n",
       "0        1          1           1      OWNER\n",
       "1        2          2           2      OWNER\n",
       "2        3          3           2  DISPONENT\n",
       "3        4          4           3      OWNER\n",
       "4        5          5           3  DISPONENT"
      ]
     },
     "execution_count": 22,
     "metadata": {},
     "output_type": "execute_result"
    }
   ],
   "source": [
    "# rename disp_type.\n",
    "disp_df = pd.read_csv('data/disp.asc', sep=';')\n",
    "\n",
    "disp_df = disp_df.rename(columns={'type': 'disp_type'})\n",
    "disp_df.head()"
   ]
  },
  {
   "cell_type": "code",
   "execution_count": 23,
   "metadata": {},
   "outputs": [
    {
     "data": {
      "text/plain": [
       "OWNER        4500\n",
       "DISPONENT     869\n",
       "Name: disp_type, dtype: int64"
      ]
     },
     "execution_count": 23,
     "metadata": {},
     "output_type": "execute_result"
    }
   ],
   "source": [
    "disp_df['disp_type'].value_counts()"
   ]
  },
  {
   "cell_type": "code",
   "execution_count": 24,
   "metadata": {},
   "outputs": [
    {
     "data": {
      "text/html": [
       "<div>\n",
       "<style scoped>\n",
       "    .dataframe tbody tr th:only-of-type {\n",
       "        vertical-align: middle;\n",
       "    }\n",
       "\n",
       "    .dataframe tbody tr th {\n",
       "        vertical-align: top;\n",
       "    }\n",
       "\n",
       "    .dataframe thead th {\n",
       "        text-align: right;\n",
       "    }\n",
       "</style>\n",
       "<table border=\"1\" class=\"dataframe\">\n",
       "  <thead>\n",
       "    <tr style=\"text-align: right;\">\n",
       "      <th></th>\n",
       "      <th>district_id</th>\n",
       "      <th>district_name</th>\n",
       "      <th>region</th>\n",
       "      <th>num_inhabitants</th>\n",
       "      <th>num_munipalities_gt499</th>\n",
       "      <th>num_munipalities_500to1999</th>\n",
       "      <th>num_munipalities_2000to9999</th>\n",
       "      <th>num_munipalities_gt10000</th>\n",
       "      <th>num_cities</th>\n",
       "      <th>ratio_urban</th>\n",
       "      <th>average_salary</th>\n",
       "      <th>unemp_rate95</th>\n",
       "      <th>unemp_rate96</th>\n",
       "      <th>num_entrep_per1000</th>\n",
       "      <th>num_crimes95</th>\n",
       "      <th>num_crimes96</th>\n",
       "    </tr>\n",
       "  </thead>\n",
       "  <tbody>\n",
       "    <tr>\n",
       "      <th>0</th>\n",
       "      <td>1</td>\n",
       "      <td>Hl.m. Praha</td>\n",
       "      <td>Prague</td>\n",
       "      <td>1204953</td>\n",
       "      <td>0</td>\n",
       "      <td>0</td>\n",
       "      <td>0</td>\n",
       "      <td>1</td>\n",
       "      <td>1</td>\n",
       "      <td>100.0</td>\n",
       "      <td>12541</td>\n",
       "      <td>0.29</td>\n",
       "      <td>0.43</td>\n",
       "      <td>167</td>\n",
       "      <td>85677</td>\n",
       "      <td>99107</td>\n",
       "    </tr>\n",
       "    <tr>\n",
       "      <th>1</th>\n",
       "      <td>2</td>\n",
       "      <td>Benesov</td>\n",
       "      <td>central Bohemia</td>\n",
       "      <td>88884</td>\n",
       "      <td>80</td>\n",
       "      <td>26</td>\n",
       "      <td>6</td>\n",
       "      <td>2</td>\n",
       "      <td>5</td>\n",
       "      <td>46.7</td>\n",
       "      <td>8507</td>\n",
       "      <td>1.67</td>\n",
       "      <td>1.85</td>\n",
       "      <td>132</td>\n",
       "      <td>2159</td>\n",
       "      <td>2674</td>\n",
       "    </tr>\n",
       "    <tr>\n",
       "      <th>2</th>\n",
       "      <td>3</td>\n",
       "      <td>Beroun</td>\n",
       "      <td>central Bohemia</td>\n",
       "      <td>75232</td>\n",
       "      <td>55</td>\n",
       "      <td>26</td>\n",
       "      <td>4</td>\n",
       "      <td>1</td>\n",
       "      <td>5</td>\n",
       "      <td>41.7</td>\n",
       "      <td>8980</td>\n",
       "      <td>1.95</td>\n",
       "      <td>2.21</td>\n",
       "      <td>111</td>\n",
       "      <td>2824</td>\n",
       "      <td>2813</td>\n",
       "    </tr>\n",
       "    <tr>\n",
       "      <th>3</th>\n",
       "      <td>4</td>\n",
       "      <td>Kladno</td>\n",
       "      <td>central Bohemia</td>\n",
       "      <td>149893</td>\n",
       "      <td>63</td>\n",
       "      <td>29</td>\n",
       "      <td>6</td>\n",
       "      <td>2</td>\n",
       "      <td>6</td>\n",
       "      <td>67.4</td>\n",
       "      <td>9753</td>\n",
       "      <td>4.64</td>\n",
       "      <td>5.05</td>\n",
       "      <td>109</td>\n",
       "      <td>5244</td>\n",
       "      <td>5892</td>\n",
       "    </tr>\n",
       "    <tr>\n",
       "      <th>4</th>\n",
       "      <td>5</td>\n",
       "      <td>Kolin</td>\n",
       "      <td>central Bohemia</td>\n",
       "      <td>95616</td>\n",
       "      <td>65</td>\n",
       "      <td>30</td>\n",
       "      <td>4</td>\n",
       "      <td>1</td>\n",
       "      <td>6</td>\n",
       "      <td>51.4</td>\n",
       "      <td>9307</td>\n",
       "      <td>3.85</td>\n",
       "      <td>4.43</td>\n",
       "      <td>118</td>\n",
       "      <td>2616</td>\n",
       "      <td>3040</td>\n",
       "    </tr>\n",
       "  </tbody>\n",
       "</table>\n",
       "</div>"
      ],
      "text/plain": [
       "   district_id district_name           region  num_inhabitants  \\\n",
       "0            1   Hl.m. Praha           Prague          1204953   \n",
       "1            2       Benesov  central Bohemia            88884   \n",
       "2            3        Beroun  central Bohemia            75232   \n",
       "3            4        Kladno  central Bohemia           149893   \n",
       "4            5         Kolin  central Bohemia            95616   \n",
       "\n",
       "   num_munipalities_gt499  num_munipalities_500to1999  \\\n",
       "0                       0                           0   \n",
       "1                      80                          26   \n",
       "2                      55                          26   \n",
       "3                      63                          29   \n",
       "4                      65                          30   \n",
       "\n",
       "   num_munipalities_2000to9999  num_munipalities_gt10000  num_cities  \\\n",
       "0                            0                         1           1   \n",
       "1                            6                         2           5   \n",
       "2                            4                         1           5   \n",
       "3                            6                         2           6   \n",
       "4                            4                         1           6   \n",
       "\n",
       "   ratio_urban  average_salary unemp_rate95  unemp_rate96  num_entrep_per1000  \\\n",
       "0        100.0           12541         0.29          0.43                 167   \n",
       "1         46.7            8507         1.67          1.85                 132   \n",
       "2         41.7            8980         1.95          2.21                 111   \n",
       "3         67.4            9753         4.64          5.05                 109   \n",
       "4         51.4            9307         3.85          4.43                 118   \n",
       "\n",
       "  num_crimes95  num_crimes96  \n",
       "0        85677         99107  \n",
       "1         2159          2674  \n",
       "2         2824          2813  \n",
       "3         5244          5892  \n",
       "4         2616          3040  "
      ]
     },
     "execution_count": 24,
     "metadata": {},
     "output_type": "execute_result"
    }
   ],
   "source": [
    "district_df = pd.read_csv('data/district.asc', sep=';')\n",
    "\n",
    "# rename A1 so it is clear that it is district_id.\n",
    "district_df = district_df.rename(columns={'A1':'district_id', 'A2':'district_name', 'A3':'region', 'A4':'num_inhabitants', 'A5':'num_munipalities_gt499',\n",
    " 'A6':'num_munipalities_500to1999', 'A7':'num_munipalities_2000to9999', 'A8':'num_munipalities_gt10000',\n",
    " 'A9':'num_cities', 'A10':'ratio_urban', 'A11':'average_salary', 'A12':'unemp_rate95', 'A13': 'unemp_rate96',\n",
    " 'A14':'num_entrep_per1000', 'A15':'num_crimes95', 'A16':'num_crimes96'})\n",
    "\n",
    "\n",
    "district_df.head()"
   ]
  },
  {
   "cell_type": "code",
   "execution_count": 25,
   "metadata": {},
   "outputs": [
    {
     "name": "stdout",
     "output_type": "stream",
     "text": [
      "district_id                      int64\n",
      "district_name                   object\n",
      "region                          object\n",
      "num_inhabitants                  int64\n",
      "num_munipalities_gt499           int64\n",
      "num_munipalities_500to1999       int64\n",
      "num_munipalities_2000to9999      int64\n",
      "num_munipalities_gt10000         int64\n",
      "num_cities                       int64\n",
      "ratio_urban                    float64\n",
      "average_salary                   int64\n",
      "unemp_rate95                    object\n",
      "unemp_rate96                   float64\n",
      "num_entrep_per1000               int64\n",
      "num_crimes95                    object\n",
      "num_crimes96                     int64\n",
      "dtype: object\n"
     ]
    }
   ],
   "source": [
    "# something wrong with unemp_rate95 and num_crimes95.\n",
    "print(district_df.dtypes)\n",
    "district_df['unemp_rate95'].value_counts()[50:100]\n",
    "district_df['num_crimes95'].value_counts()[1:50]\n",
    "\n",
    "def convert_question_marks(x, typ):\n",
    "    if x == '?':\n",
    "        return -1\n",
    "    elif typ == 'float':\n",
    "        return float(x)\n",
    "    else:\n",
    "        return int(x)\n",
    "    \n",
    "district_df['unemp_rate95'] = district_df['unemp_rate95'].apply(convert_question_marks, args=('float',))\n",
    "district_df['num_crimes95'] = district_df['num_crimes95'].apply(convert_question_marks, args=('int',))\n"
   ]
  },
  {
   "cell_type": "code",
   "execution_count": 26,
   "metadata": {},
   "outputs": [
    {
     "name": "stdout",
     "output_type": "stream",
     "text": [
      "district_id                      int64\n",
      "district_name                   object\n",
      "region                          object\n",
      "num_inhabitants                  int64\n",
      "num_munipalities_gt499           int64\n",
      "num_munipalities_500to1999       int64\n",
      "num_munipalities_2000to9999      int64\n",
      "num_munipalities_gt10000         int64\n",
      "num_cities                       int64\n",
      "ratio_urban                    float64\n",
      "average_salary                   int64\n",
      "unemp_rate95                   float64\n",
      "unemp_rate96                   float64\n",
      "num_entrep_per1000               int64\n",
      "num_crimes95                     int64\n",
      "num_crimes96                     int64\n",
      "dtype: object\n"
     ]
    }
   ],
   "source": [
    "print(district_df.dtypes)"
   ]
  },
  {
   "cell_type": "code",
   "execution_count": 27,
   "metadata": {},
   "outputs": [
    {
     "data": {
      "text/html": [
       "<div>\n",
       "<style scoped>\n",
       "    .dataframe tbody tr th:only-of-type {\n",
       "        vertical-align: middle;\n",
       "    }\n",
       "\n",
       "    .dataframe tbody tr th {\n",
       "        vertical-align: top;\n",
       "    }\n",
       "\n",
       "    .dataframe thead th {\n",
       "        text-align: right;\n",
       "    }\n",
       "</style>\n",
       "<table border=\"1\" class=\"dataframe\">\n",
       "  <thead>\n",
       "    <tr style=\"text-align: right;\">\n",
       "      <th></th>\n",
       "      <th>loan_id</th>\n",
       "      <th>account_id</th>\n",
       "      <th>date</th>\n",
       "      <th>amount</th>\n",
       "      <th>duration</th>\n",
       "      <th>payments</th>\n",
       "      <th>status</th>\n",
       "    </tr>\n",
       "  </thead>\n",
       "  <tbody>\n",
       "    <tr>\n",
       "      <th>0</th>\n",
       "      <td>5314</td>\n",
       "      <td>1787</td>\n",
       "      <td>930705</td>\n",
       "      <td>96396</td>\n",
       "      <td>12</td>\n",
       "      <td>8033.0</td>\n",
       "      <td>B</td>\n",
       "    </tr>\n",
       "    <tr>\n",
       "      <th>1</th>\n",
       "      <td>5316</td>\n",
       "      <td>1801</td>\n",
       "      <td>930711</td>\n",
       "      <td>165960</td>\n",
       "      <td>36</td>\n",
       "      <td>4610.0</td>\n",
       "      <td>A</td>\n",
       "    </tr>\n",
       "    <tr>\n",
       "      <th>2</th>\n",
       "      <td>6863</td>\n",
       "      <td>9188</td>\n",
       "      <td>930728</td>\n",
       "      <td>127080</td>\n",
       "      <td>60</td>\n",
       "      <td>2118.0</td>\n",
       "      <td>A</td>\n",
       "    </tr>\n",
       "    <tr>\n",
       "      <th>3</th>\n",
       "      <td>5325</td>\n",
       "      <td>1843</td>\n",
       "      <td>930803</td>\n",
       "      <td>105804</td>\n",
       "      <td>36</td>\n",
       "      <td>2939.0</td>\n",
       "      <td>A</td>\n",
       "    </tr>\n",
       "    <tr>\n",
       "      <th>4</th>\n",
       "      <td>7240</td>\n",
       "      <td>11013</td>\n",
       "      <td>930906</td>\n",
       "      <td>274740</td>\n",
       "      <td>60</td>\n",
       "      <td>4579.0</td>\n",
       "      <td>A</td>\n",
       "    </tr>\n",
       "  </tbody>\n",
       "</table>\n",
       "</div>"
      ],
      "text/plain": [
       "   loan_id  account_id    date  amount  duration  payments status\n",
       "0     5314        1787  930705   96396        12    8033.0      B\n",
       "1     5316        1801  930711  165960        36    4610.0      A\n",
       "2     6863        9188  930728  127080        60    2118.0      A\n",
       "3     5325        1843  930803  105804        36    2939.0      A\n",
       "4     7240       11013  930906  274740        60    4579.0      A"
      ]
     },
     "execution_count": 27,
     "metadata": {},
     "output_type": "execute_result"
    }
   ],
   "source": [
    "loan_df = pd.read_csv('data/loan.asc', sep=';')\n",
    "loan_df.head()"
   ]
  },
  {
   "cell_type": "code",
   "execution_count": 28,
   "metadata": {},
   "outputs": [],
   "source": [
    "# convert loan date to integer.\n",
    "loan_df['date'] = loan_df['date'].map(convert_int_to_date)\n",
    "loan_df['loan_date'] = loan_df['date'].map(convert_date_to_days)\n",
    "del loan_df['date']"
   ]
  },
  {
   "cell_type": "code",
   "execution_count": 29,
   "metadata": {},
   "outputs": [
    {
     "data": {
      "text/html": [
       "<div>\n",
       "<style scoped>\n",
       "    .dataframe tbody tr th:only-of-type {\n",
       "        vertical-align: middle;\n",
       "    }\n",
       "\n",
       "    .dataframe tbody tr th {\n",
       "        vertical-align: top;\n",
       "    }\n",
       "\n",
       "    .dataframe thead th {\n",
       "        text-align: right;\n",
       "    }\n",
       "</style>\n",
       "<table border=\"1\" class=\"dataframe\">\n",
       "  <thead>\n",
       "    <tr style=\"text-align: right;\">\n",
       "      <th></th>\n",
       "      <th>loan_id</th>\n",
       "      <th>account_id</th>\n",
       "      <th>loan_amount</th>\n",
       "      <th>loan_duration</th>\n",
       "      <th>monthly_loan_payment</th>\n",
       "      <th>loan_status</th>\n",
       "      <th>loan_date</th>\n",
       "    </tr>\n",
       "  </thead>\n",
       "  <tbody>\n",
       "    <tr>\n",
       "      <th>0</th>\n",
       "      <td>5314</td>\n",
       "      <td>1787</td>\n",
       "      <td>96396</td>\n",
       "      <td>12</td>\n",
       "      <td>8033.0</td>\n",
       "      <td>B</td>\n",
       "      <td>185</td>\n",
       "    </tr>\n",
       "    <tr>\n",
       "      <th>1</th>\n",
       "      <td>5316</td>\n",
       "      <td>1801</td>\n",
       "      <td>165960</td>\n",
       "      <td>36</td>\n",
       "      <td>4610.0</td>\n",
       "      <td>A</td>\n",
       "      <td>191</td>\n",
       "    </tr>\n",
       "    <tr>\n",
       "      <th>2</th>\n",
       "      <td>6863</td>\n",
       "      <td>9188</td>\n",
       "      <td>127080</td>\n",
       "      <td>60</td>\n",
       "      <td>2118.0</td>\n",
       "      <td>A</td>\n",
       "      <td>208</td>\n",
       "    </tr>\n",
       "    <tr>\n",
       "      <th>3</th>\n",
       "      <td>5325</td>\n",
       "      <td>1843</td>\n",
       "      <td>105804</td>\n",
       "      <td>36</td>\n",
       "      <td>2939.0</td>\n",
       "      <td>A</td>\n",
       "      <td>214</td>\n",
       "    </tr>\n",
       "    <tr>\n",
       "      <th>4</th>\n",
       "      <td>7240</td>\n",
       "      <td>11013</td>\n",
       "      <td>274740</td>\n",
       "      <td>60</td>\n",
       "      <td>4579.0</td>\n",
       "      <td>A</td>\n",
       "      <td>248</td>\n",
       "    </tr>\n",
       "  </tbody>\n",
       "</table>\n",
       "</div>"
      ],
      "text/plain": [
       "   loan_id  account_id  loan_amount  loan_duration  monthly_loan_payment  \\\n",
       "0     5314        1787        96396             12                8033.0   \n",
       "1     5316        1801       165960             36                4610.0   \n",
       "2     6863        9188       127080             60                2118.0   \n",
       "3     5325        1843       105804             36                2939.0   \n",
       "4     7240       11013       274740             60                4579.0   \n",
       "\n",
       "  loan_status  loan_date  \n",
       "0           B        185  \n",
       "1           A        191  \n",
       "2           A        208  \n",
       "3           A        214  \n",
       "4           A        248  "
      ]
     },
     "execution_count": 29,
     "metadata": {},
     "output_type": "execute_result"
    }
   ],
   "source": [
    "loan_df = loan_df.rename(columns={'amount': 'loan_amount', 'duration':'loan_duration', 'payments':'monthly_loan_payment', 'status':'loan_status'})\n",
    "loan_df.head()"
   ]
  },
  {
   "cell_type": "code",
   "execution_count": 30,
   "metadata": {},
   "outputs": [
    {
     "data": {
      "text/html": [
       "<div>\n",
       "<style scoped>\n",
       "    .dataframe tbody tr th:only-of-type {\n",
       "        vertical-align: middle;\n",
       "    }\n",
       "\n",
       "    .dataframe tbody tr th {\n",
       "        vertical-align: top;\n",
       "    }\n",
       "\n",
       "    .dataframe thead th {\n",
       "        text-align: right;\n",
       "    }\n",
       "</style>\n",
       "<table border=\"1\" class=\"dataframe\">\n",
       "  <thead>\n",
       "    <tr style=\"text-align: right;\">\n",
       "      <th></th>\n",
       "      <th>order_id</th>\n",
       "      <th>account_id</th>\n",
       "      <th>bank_to</th>\n",
       "      <th>account_to</th>\n",
       "      <th>amount</th>\n",
       "      <th>k_symbol</th>\n",
       "    </tr>\n",
       "  </thead>\n",
       "  <tbody>\n",
       "    <tr>\n",
       "      <th>0</th>\n",
       "      <td>29401</td>\n",
       "      <td>1</td>\n",
       "      <td>YZ</td>\n",
       "      <td>87144583</td>\n",
       "      <td>2452.0</td>\n",
       "      <td>SIPO</td>\n",
       "    </tr>\n",
       "    <tr>\n",
       "      <th>1</th>\n",
       "      <td>29402</td>\n",
       "      <td>2</td>\n",
       "      <td>ST</td>\n",
       "      <td>89597016</td>\n",
       "      <td>3372.7</td>\n",
       "      <td>UVER</td>\n",
       "    </tr>\n",
       "    <tr>\n",
       "      <th>2</th>\n",
       "      <td>29403</td>\n",
       "      <td>2</td>\n",
       "      <td>QR</td>\n",
       "      <td>13943797</td>\n",
       "      <td>7266.0</td>\n",
       "      <td>SIPO</td>\n",
       "    </tr>\n",
       "    <tr>\n",
       "      <th>3</th>\n",
       "      <td>29404</td>\n",
       "      <td>3</td>\n",
       "      <td>WX</td>\n",
       "      <td>83084338</td>\n",
       "      <td>1135.0</td>\n",
       "      <td>SIPO</td>\n",
       "    </tr>\n",
       "    <tr>\n",
       "      <th>4</th>\n",
       "      <td>29405</td>\n",
       "      <td>3</td>\n",
       "      <td>CD</td>\n",
       "      <td>24485939</td>\n",
       "      <td>327.0</td>\n",
       "      <td></td>\n",
       "    </tr>\n",
       "  </tbody>\n",
       "</table>\n",
       "</div>"
      ],
      "text/plain": [
       "   order_id  account_id bank_to  account_to  amount k_symbol\n",
       "0     29401           1      YZ    87144583  2452.0     SIPO\n",
       "1     29402           2      ST    89597016  3372.7     UVER\n",
       "2     29403           2      QR    13943797  7266.0     SIPO\n",
       "3     29404           3      WX    83084338  1135.0     SIPO\n",
       "4     29405           3      CD    24485939   327.0         "
      ]
     },
     "execution_count": 30,
     "metadata": {},
     "output_type": "execute_result"
    }
   ],
   "source": [
    "order_df = pd.read_csv('data/order.asc', sep=';')\n",
    "order_df.head()"
   ]
  },
  {
   "cell_type": "code",
   "execution_count": 31,
   "metadata": {},
   "outputs": [
    {
     "data": {
      "text/plain": [
       "SIPO        3502\n",
       "            1379\n",
       "UVER         717\n",
       "POJISTNE     532\n",
       "LEASING      341\n",
       "Name: k_symbol, dtype: int64"
      ]
     },
     "execution_count": 31,
     "metadata": {},
     "output_type": "execute_result"
    }
   ],
   "source": [
    "order_df['k_symbol'].value_counts()"
   ]
  },
  {
   "cell_type": "code",
   "execution_count": 32,
   "metadata": {},
   "outputs": [],
   "source": [
    "# translate k_symbol to english.\n",
    "def convert_k_symbol_to_eng(x):\n",
    "    if x == 'POJISTNE':\n",
    "        return 'INSURANCE_PAYMENT'\n",
    "    elif x == 'SIPO':\n",
    "        return 'HOUSEHOLD_PAYMENT'\n",
    "    elif x == 'LEASING':\n",
    "        return 'LEASING_PAYMENT'\n",
    "    elif x == 'UVER':\n",
    "        return 'LOAN_PAYMENT'\n",
    "    else:\n",
    "        return 'UNKNOWN'"
   ]
  },
  {
   "cell_type": "code",
   "execution_count": 33,
   "metadata": {},
   "outputs": [],
   "source": [
    "order_df['order_k_symbol'] = order_df['k_symbol'].map(convert_k_symbol_to_eng)\n",
    "del order_df['k_symbol']"
   ]
  },
  {
   "cell_type": "code",
   "execution_count": 34,
   "metadata": {},
   "outputs": [
    {
     "data": {
      "text/html": [
       "<div>\n",
       "<style scoped>\n",
       "    .dataframe tbody tr th:only-of-type {\n",
       "        vertical-align: middle;\n",
       "    }\n",
       "\n",
       "    .dataframe tbody tr th {\n",
       "        vertical-align: top;\n",
       "    }\n",
       "\n",
       "    .dataframe thead th {\n",
       "        text-align: right;\n",
       "    }\n",
       "</style>\n",
       "<table border=\"1\" class=\"dataframe\">\n",
       "  <thead>\n",
       "    <tr style=\"text-align: right;\">\n",
       "      <th></th>\n",
       "      <th>order_id</th>\n",
       "      <th>account_id</th>\n",
       "      <th>order_bank_to</th>\n",
       "      <th>order_account_to</th>\n",
       "      <th>order_amount</th>\n",
       "      <th>order_k_symbol</th>\n",
       "    </tr>\n",
       "  </thead>\n",
       "  <tbody>\n",
       "    <tr>\n",
       "      <th>0</th>\n",
       "      <td>29401</td>\n",
       "      <td>1</td>\n",
       "      <td>YZ</td>\n",
       "      <td>87144583</td>\n",
       "      <td>2452.0</td>\n",
       "      <td>HOUSEHOLD_PAYMENT</td>\n",
       "    </tr>\n",
       "    <tr>\n",
       "      <th>1</th>\n",
       "      <td>29402</td>\n",
       "      <td>2</td>\n",
       "      <td>ST</td>\n",
       "      <td>89597016</td>\n",
       "      <td>3372.7</td>\n",
       "      <td>LOAN_PAYMENT</td>\n",
       "    </tr>\n",
       "    <tr>\n",
       "      <th>2</th>\n",
       "      <td>29403</td>\n",
       "      <td>2</td>\n",
       "      <td>QR</td>\n",
       "      <td>13943797</td>\n",
       "      <td>7266.0</td>\n",
       "      <td>HOUSEHOLD_PAYMENT</td>\n",
       "    </tr>\n",
       "    <tr>\n",
       "      <th>3</th>\n",
       "      <td>29404</td>\n",
       "      <td>3</td>\n",
       "      <td>WX</td>\n",
       "      <td>83084338</td>\n",
       "      <td>1135.0</td>\n",
       "      <td>HOUSEHOLD_PAYMENT</td>\n",
       "    </tr>\n",
       "    <tr>\n",
       "      <th>4</th>\n",
       "      <td>29405</td>\n",
       "      <td>3</td>\n",
       "      <td>CD</td>\n",
       "      <td>24485939</td>\n",
       "      <td>327.0</td>\n",
       "      <td>UNKNOWN</td>\n",
       "    </tr>\n",
       "  </tbody>\n",
       "</table>\n",
       "</div>"
      ],
      "text/plain": [
       "   order_id  account_id order_bank_to  order_account_to  order_amount  \\\n",
       "0     29401           1            YZ          87144583        2452.0   \n",
       "1     29402           2            ST          89597016        3372.7   \n",
       "2     29403           2            QR          13943797        7266.0   \n",
       "3     29404           3            WX          83084338        1135.0   \n",
       "4     29405           3            CD          24485939         327.0   \n",
       "\n",
       "      order_k_symbol  \n",
       "0  HOUSEHOLD_PAYMENT  \n",
       "1       LOAN_PAYMENT  \n",
       "2  HOUSEHOLD_PAYMENT  \n",
       "3  HOUSEHOLD_PAYMENT  \n",
       "4            UNKNOWN  "
      ]
     },
     "execution_count": 34,
     "metadata": {},
     "output_type": "execute_result"
    }
   ],
   "source": [
    "order_df = order_df.rename(columns={'bank_to': 'order_bank_to', 'account_to':'order_account_to', 'amount':'order_amount'})\n",
    "order_df.head()"
   ]
  },
  {
   "cell_type": "code",
   "execution_count": 35,
   "metadata": {},
   "outputs": [
    {
     "data": {
      "text/html": [
       "<div>\n",
       "<style scoped>\n",
       "    .dataframe tbody tr th:only-of-type {\n",
       "        vertical-align: middle;\n",
       "    }\n",
       "\n",
       "    .dataframe tbody tr th {\n",
       "        vertical-align: top;\n",
       "    }\n",
       "\n",
       "    .dataframe thead th {\n",
       "        text-align: right;\n",
       "    }\n",
       "</style>\n",
       "<table border=\"1\" class=\"dataframe\">\n",
       "  <thead>\n",
       "    <tr style=\"text-align: right;\">\n",
       "      <th></th>\n",
       "      <th>trans_id</th>\n",
       "      <th>account_id</th>\n",
       "      <th>date</th>\n",
       "      <th>type</th>\n",
       "      <th>operation</th>\n",
       "      <th>amount</th>\n",
       "      <th>balance</th>\n",
       "      <th>k_symbol</th>\n",
       "      <th>bank</th>\n",
       "      <th>account</th>\n",
       "    </tr>\n",
       "  </thead>\n",
       "  <tbody>\n",
       "    <tr>\n",
       "      <th>0</th>\n",
       "      <td>695247</td>\n",
       "      <td>2378</td>\n",
       "      <td>930101</td>\n",
       "      <td>PRIJEM</td>\n",
       "      <td>VKLAD</td>\n",
       "      <td>700.0</td>\n",
       "      <td>700.0</td>\n",
       "      <td>NaN</td>\n",
       "      <td>NaN</td>\n",
       "      <td>NaN</td>\n",
       "    </tr>\n",
       "    <tr>\n",
       "      <th>1</th>\n",
       "      <td>171812</td>\n",
       "      <td>576</td>\n",
       "      <td>930101</td>\n",
       "      <td>PRIJEM</td>\n",
       "      <td>VKLAD</td>\n",
       "      <td>900.0</td>\n",
       "      <td>900.0</td>\n",
       "      <td>NaN</td>\n",
       "      <td>NaN</td>\n",
       "      <td>NaN</td>\n",
       "    </tr>\n",
       "    <tr>\n",
       "      <th>2</th>\n",
       "      <td>207264</td>\n",
       "      <td>704</td>\n",
       "      <td>930101</td>\n",
       "      <td>PRIJEM</td>\n",
       "      <td>VKLAD</td>\n",
       "      <td>1000.0</td>\n",
       "      <td>1000.0</td>\n",
       "      <td>NaN</td>\n",
       "      <td>NaN</td>\n",
       "      <td>NaN</td>\n",
       "    </tr>\n",
       "    <tr>\n",
       "      <th>3</th>\n",
       "      <td>1117247</td>\n",
       "      <td>3818</td>\n",
       "      <td>930101</td>\n",
       "      <td>PRIJEM</td>\n",
       "      <td>VKLAD</td>\n",
       "      <td>600.0</td>\n",
       "      <td>600.0</td>\n",
       "      <td>NaN</td>\n",
       "      <td>NaN</td>\n",
       "      <td>NaN</td>\n",
       "    </tr>\n",
       "    <tr>\n",
       "      <th>4</th>\n",
       "      <td>579373</td>\n",
       "      <td>1972</td>\n",
       "      <td>930102</td>\n",
       "      <td>PRIJEM</td>\n",
       "      <td>VKLAD</td>\n",
       "      <td>400.0</td>\n",
       "      <td>400.0</td>\n",
       "      <td>NaN</td>\n",
       "      <td>NaN</td>\n",
       "      <td>NaN</td>\n",
       "    </tr>\n",
       "  </tbody>\n",
       "</table>\n",
       "</div>"
      ],
      "text/plain": [
       "   trans_id  account_id    date    type operation  amount  balance k_symbol  \\\n",
       "0    695247        2378  930101  PRIJEM     VKLAD   700.0    700.0      NaN   \n",
       "1    171812         576  930101  PRIJEM     VKLAD   900.0    900.0      NaN   \n",
       "2    207264         704  930101  PRIJEM     VKLAD  1000.0   1000.0      NaN   \n",
       "3   1117247        3818  930101  PRIJEM     VKLAD   600.0    600.0      NaN   \n",
       "4    579373        1972  930102  PRIJEM     VKLAD   400.0    400.0      NaN   \n",
       "\n",
       "  bank  account  \n",
       "0  NaN      NaN  \n",
       "1  NaN      NaN  \n",
       "2  NaN      NaN  \n",
       "3  NaN      NaN  \n",
       "4  NaN      NaN  "
      ]
     },
     "execution_count": 35,
     "metadata": {},
     "output_type": "execute_result"
    }
   ],
   "source": [
    "trans_df = pd.read_csv('data/trans.asc', sep=';', low_memory=False)\n",
    "trans_df.head()"
   ]
  },
  {
   "cell_type": "code",
   "execution_count": 36,
   "metadata": {},
   "outputs": [
    {
     "data": {
      "text/plain": [
       "UROK           183114\n",
       "SLUZBY         155832\n",
       "SIPO           118065\n",
       "                53433\n",
       "DUCHOD          30338\n",
       "POJISTNE        18500\n",
       "UVER            13580\n",
       "SANKC. UROK      1577\n",
       "Name: k_symbol, dtype: int64"
      ]
     },
     "execution_count": 36,
     "metadata": {},
     "output_type": "execute_result"
    }
   ],
   "source": [
    "trans_df['k_symbol'].value_counts()"
   ]
  },
  {
   "cell_type": "code",
   "execution_count": 37,
   "metadata": {},
   "outputs": [],
   "source": [
    "def convert_trans_type_to_eng(x):\n",
    "    if x == 'PRIJEM':\n",
    "        return 'CREDIT'\n",
    "    elif x == 'VYDAJ':\n",
    "        return 'WITHDRAWAL'\n",
    "    else:\n",
    "        return 'UNKNOWN'\n",
    "    \n",
    "def convert_trans_op_to_eng(x):\n",
    "    if x == 'VYBER KARTOU':\n",
    "        return 'CC_WITHDRAWAL'\n",
    "    elif x == 'VKLAD':\n",
    "        return 'CREDIT_IN_CASH'\n",
    "    elif x == 'PREVOD Z UCTU':\n",
    "        return 'COLLECTION_FROM_OTHER_BANK'\n",
    "    elif x == 'VYBER':\n",
    "        return 'WITHDRAWAL_IN_CASH'\n",
    "    elif x == 'PREVOD NA UCET':\n",
    "        return 'REMITTANCE_TO_OTHER_BANK'    \n",
    "    else:\n",
    "        return 'UNKNOWN'\n",
    "    \n",
    "def convert_trans_k_symbol_to_eng(x):\n",
    "    if x == 'POJISTNE':\n",
    "        return 'INSURANCE_PAYMENT'\n",
    "    elif x == 'SLUZBY':\n",
    "        return 'PAYMENT_FOR_STATEMENT'\n",
    "    elif x == 'UROK':\n",
    "        return 'INTEREST_CREDITED'\n",
    "    elif x == 'SANKC. UROK':\n",
    "        return 'SANCTION_INTEREST'\n",
    "    elif x == 'SIPO':\n",
    "        return 'HOUSEHOLD'\n",
    "    elif x == 'DUCHOD':\n",
    "        return 'OLD_AGE_PENSION'  \n",
    "    elif x == 'UVER':\n",
    "        return 'LOAN_PAYMENT'      \n",
    "    else:\n",
    "        return 'UNKNOWN'"
   ]
  },
  {
   "cell_type": "code",
   "execution_count": 38,
   "metadata": {},
   "outputs": [],
   "source": [
    "trans_df['trans_type'] = trans_df['type'].map(convert_trans_type_to_eng)\n",
    "trans_df['trans_operation'] = trans_df['operation'].map(convert_trans_op_to_eng)\n",
    "trans_df['trans_k_symbol'] = trans_df['k_symbol'].map(convert_trans_k_symbol_to_eng)\n",
    "\n",
    "del trans_df['type']\n",
    "del trans_df['operation']\n",
    "del trans_df['k_symbol']"
   ]
  },
  {
   "cell_type": "code",
   "execution_count": 39,
   "metadata": {},
   "outputs": [
    {
     "data": {
      "text/html": [
       "<div>\n",
       "<style scoped>\n",
       "    .dataframe tbody tr th:only-of-type {\n",
       "        vertical-align: middle;\n",
       "    }\n",
       "\n",
       "    .dataframe tbody tr th {\n",
       "        vertical-align: top;\n",
       "    }\n",
       "\n",
       "    .dataframe thead th {\n",
       "        text-align: right;\n",
       "    }\n",
       "</style>\n",
       "<table border=\"1\" class=\"dataframe\">\n",
       "  <thead>\n",
       "    <tr style=\"text-align: right;\">\n",
       "      <th></th>\n",
       "      <th>trans_id</th>\n",
       "      <th>account_id</th>\n",
       "      <th>trans_amount</th>\n",
       "      <th>balance_after_trans</th>\n",
       "      <th>trans_bank_partner</th>\n",
       "      <th>trans_account_partner</th>\n",
       "      <th>trans_type</th>\n",
       "      <th>trans_operation</th>\n",
       "      <th>trans_k_symbol</th>\n",
       "      <th>trans_date</th>\n",
       "    </tr>\n",
       "  </thead>\n",
       "  <tbody>\n",
       "    <tr>\n",
       "      <th>0</th>\n",
       "      <td>695247</td>\n",
       "      <td>2378</td>\n",
       "      <td>700.0</td>\n",
       "      <td>700.0</td>\n",
       "      <td>NaN</td>\n",
       "      <td>NaN</td>\n",
       "      <td>CREDIT</td>\n",
       "      <td>CREDIT_IN_CASH</td>\n",
       "      <td>UNKNOWN</td>\n",
       "      <td>0</td>\n",
       "    </tr>\n",
       "    <tr>\n",
       "      <th>1</th>\n",
       "      <td>171812</td>\n",
       "      <td>576</td>\n",
       "      <td>900.0</td>\n",
       "      <td>900.0</td>\n",
       "      <td>NaN</td>\n",
       "      <td>NaN</td>\n",
       "      <td>CREDIT</td>\n",
       "      <td>CREDIT_IN_CASH</td>\n",
       "      <td>UNKNOWN</td>\n",
       "      <td>0</td>\n",
       "    </tr>\n",
       "    <tr>\n",
       "      <th>2</th>\n",
       "      <td>207264</td>\n",
       "      <td>704</td>\n",
       "      <td>1000.0</td>\n",
       "      <td>1000.0</td>\n",
       "      <td>NaN</td>\n",
       "      <td>NaN</td>\n",
       "      <td>CREDIT</td>\n",
       "      <td>CREDIT_IN_CASH</td>\n",
       "      <td>UNKNOWN</td>\n",
       "      <td>0</td>\n",
       "    </tr>\n",
       "    <tr>\n",
       "      <th>3</th>\n",
       "      <td>1117247</td>\n",
       "      <td>3818</td>\n",
       "      <td>600.0</td>\n",
       "      <td>600.0</td>\n",
       "      <td>NaN</td>\n",
       "      <td>NaN</td>\n",
       "      <td>CREDIT</td>\n",
       "      <td>CREDIT_IN_CASH</td>\n",
       "      <td>UNKNOWN</td>\n",
       "      <td>0</td>\n",
       "    </tr>\n",
       "    <tr>\n",
       "      <th>4</th>\n",
       "      <td>579373</td>\n",
       "      <td>1972</td>\n",
       "      <td>400.0</td>\n",
       "      <td>400.0</td>\n",
       "      <td>NaN</td>\n",
       "      <td>NaN</td>\n",
       "      <td>CREDIT</td>\n",
       "      <td>CREDIT_IN_CASH</td>\n",
       "      <td>UNKNOWN</td>\n",
       "      <td>1</td>\n",
       "    </tr>\n",
       "    <tr>\n",
       "      <th>5</th>\n",
       "      <td>771035</td>\n",
       "      <td>2632</td>\n",
       "      <td>1100.0</td>\n",
       "      <td>1100.0</td>\n",
       "      <td>NaN</td>\n",
       "      <td>NaN</td>\n",
       "      <td>CREDIT</td>\n",
       "      <td>CREDIT_IN_CASH</td>\n",
       "      <td>UNKNOWN</td>\n",
       "      <td>1</td>\n",
       "    </tr>\n",
       "    <tr>\n",
       "      <th>6</th>\n",
       "      <td>452728</td>\n",
       "      <td>1539</td>\n",
       "      <td>600.0</td>\n",
       "      <td>600.0</td>\n",
       "      <td>NaN</td>\n",
       "      <td>NaN</td>\n",
       "      <td>CREDIT</td>\n",
       "      <td>CREDIT_IN_CASH</td>\n",
       "      <td>UNKNOWN</td>\n",
       "      <td>2</td>\n",
       "    </tr>\n",
       "    <tr>\n",
       "      <th>7</th>\n",
       "      <td>725751</td>\n",
       "      <td>2484</td>\n",
       "      <td>1100.0</td>\n",
       "      <td>1100.0</td>\n",
       "      <td>NaN</td>\n",
       "      <td>NaN</td>\n",
       "      <td>CREDIT</td>\n",
       "      <td>CREDIT_IN_CASH</td>\n",
       "      <td>UNKNOWN</td>\n",
       "      <td>2</td>\n",
       "    </tr>\n",
       "    <tr>\n",
       "      <th>8</th>\n",
       "      <td>497211</td>\n",
       "      <td>1695</td>\n",
       "      <td>200.0</td>\n",
       "      <td>200.0</td>\n",
       "      <td>NaN</td>\n",
       "      <td>NaN</td>\n",
       "      <td>CREDIT</td>\n",
       "      <td>CREDIT_IN_CASH</td>\n",
       "      <td>UNKNOWN</td>\n",
       "      <td>2</td>\n",
       "    </tr>\n",
       "    <tr>\n",
       "      <th>9</th>\n",
       "      <td>232960</td>\n",
       "      <td>793</td>\n",
       "      <td>800.0</td>\n",
       "      <td>800.0</td>\n",
       "      <td>NaN</td>\n",
       "      <td>NaN</td>\n",
       "      <td>CREDIT</td>\n",
       "      <td>CREDIT_IN_CASH</td>\n",
       "      <td>UNKNOWN</td>\n",
       "      <td>2</td>\n",
       "    </tr>\n",
       "    <tr>\n",
       "      <th>10</th>\n",
       "      <td>505240</td>\n",
       "      <td>1726</td>\n",
       "      <td>1000.0</td>\n",
       "      <td>1000.0</td>\n",
       "      <td>NaN</td>\n",
       "      <td>NaN</td>\n",
       "      <td>CREDIT</td>\n",
       "      <td>CREDIT_IN_CASH</td>\n",
       "      <td>UNKNOWN</td>\n",
       "      <td>2</td>\n",
       "    </tr>\n",
       "    <tr>\n",
       "      <th>11</th>\n",
       "      <td>144541</td>\n",
       "      <td>485</td>\n",
       "      <td>300.0</td>\n",
       "      <td>300.0</td>\n",
       "      <td>NaN</td>\n",
       "      <td>NaN</td>\n",
       "      <td>CREDIT</td>\n",
       "      <td>CREDIT_IN_CASH</td>\n",
       "      <td>UNKNOWN</td>\n",
       "      <td>3</td>\n",
       "    </tr>\n",
       "    <tr>\n",
       "      <th>12</th>\n",
       "      <td>637741</td>\n",
       "      <td>2177</td>\n",
       "      <td>800.0</td>\n",
       "      <td>800.0</td>\n",
       "      <td>NaN</td>\n",
       "      <td>NaN</td>\n",
       "      <td>CREDIT</td>\n",
       "      <td>CREDIT_IN_CASH</td>\n",
       "      <td>UNKNOWN</td>\n",
       "      <td>3</td>\n",
       "    </tr>\n",
       "    <tr>\n",
       "      <th>13</th>\n",
       "      <td>689827</td>\n",
       "      <td>2357</td>\n",
       "      <td>800.0</td>\n",
       "      <td>800.0</td>\n",
       "      <td>NaN</td>\n",
       "      <td>NaN</td>\n",
       "      <td>CREDIT</td>\n",
       "      <td>CREDIT_IN_CASH</td>\n",
       "      <td>UNKNOWN</td>\n",
       "      <td>3</td>\n",
       "    </tr>\n",
       "    <tr>\n",
       "      <th>14</th>\n",
       "      <td>846006</td>\n",
       "      <td>2881</td>\n",
       "      <td>700.0</td>\n",
       "      <td>700.0</td>\n",
       "      <td>NaN</td>\n",
       "      <td>NaN</td>\n",
       "      <td>CREDIT</td>\n",
       "      <td>CREDIT_IN_CASH</td>\n",
       "      <td>UNKNOWN</td>\n",
       "      <td>3</td>\n",
       "    </tr>\n",
       "    <tr>\n",
       "      <th>15</th>\n",
       "      <td>637742</td>\n",
       "      <td>2177</td>\n",
       "      <td>5123.0</td>\n",
       "      <td>5923.0</td>\n",
       "      <td>YZ</td>\n",
       "      <td>62457513.0</td>\n",
       "      <td>CREDIT</td>\n",
       "      <td>COLLECTION_FROM_OTHER_BANK</td>\n",
       "      <td>OLD_AGE_PENSION</td>\n",
       "      <td>4</td>\n",
       "    </tr>\n",
       "    <tr>\n",
       "      <th>16</th>\n",
       "      <td>2908688</td>\n",
       "      <td>9635</td>\n",
       "      <td>400.0</td>\n",
       "      <td>400.0</td>\n",
       "      <td>NaN</td>\n",
       "      <td>NaN</td>\n",
       "      <td>CREDIT</td>\n",
       "      <td>CREDIT_IN_CASH</td>\n",
       "      <td>UNKNOWN</td>\n",
       "      <td>4</td>\n",
       "    </tr>\n",
       "    <tr>\n",
       "      <th>17</th>\n",
       "      <td>232961</td>\n",
       "      <td>793</td>\n",
       "      <td>3401.0</td>\n",
       "      <td>4201.0</td>\n",
       "      <td>IJ</td>\n",
       "      <td>6149286.0</td>\n",
       "      <td>CREDIT</td>\n",
       "      <td>COLLECTION_FROM_OTHER_BANK</td>\n",
       "      <td>UNKNOWN</td>\n",
       "      <td>4</td>\n",
       "    </tr>\n",
       "    <tr>\n",
       "      <th>18</th>\n",
       "      <td>192096</td>\n",
       "      <td>652</td>\n",
       "      <td>700.0</td>\n",
       "      <td>700.0</td>\n",
       "      <td>NaN</td>\n",
       "      <td>NaN</td>\n",
       "      <td>CREDIT</td>\n",
       "      <td>CREDIT_IN_CASH</td>\n",
       "      <td>UNKNOWN</td>\n",
       "      <td>4</td>\n",
       "    </tr>\n",
       "    <tr>\n",
       "      <th>19</th>\n",
       "      <td>542215</td>\n",
       "      <td>1844</td>\n",
       "      <td>500.0</td>\n",
       "      <td>500.0</td>\n",
       "      <td>NaN</td>\n",
       "      <td>NaN</td>\n",
       "      <td>CREDIT</td>\n",
       "      <td>CREDIT_IN_CASH</td>\n",
       "      <td>UNKNOWN</td>\n",
       "      <td>5</td>\n",
       "    </tr>\n",
       "  </tbody>\n",
       "</table>\n",
       "</div>"
      ],
      "text/plain": [
       "    trans_id  account_id  trans_amount  balance_after_trans  \\\n",
       "0     695247        2378         700.0                700.0   \n",
       "1     171812         576         900.0                900.0   \n",
       "2     207264         704        1000.0               1000.0   \n",
       "3    1117247        3818         600.0                600.0   \n",
       "4     579373        1972         400.0                400.0   \n",
       "5     771035        2632        1100.0               1100.0   \n",
       "6     452728        1539         600.0                600.0   \n",
       "7     725751        2484        1100.0               1100.0   \n",
       "8     497211        1695         200.0                200.0   \n",
       "9     232960         793         800.0                800.0   \n",
       "10    505240        1726        1000.0               1000.0   \n",
       "11    144541         485         300.0                300.0   \n",
       "12    637741        2177         800.0                800.0   \n",
       "13    689827        2357         800.0                800.0   \n",
       "14    846006        2881         700.0                700.0   \n",
       "15    637742        2177        5123.0               5923.0   \n",
       "16   2908688        9635         400.0                400.0   \n",
       "17    232961         793        3401.0               4201.0   \n",
       "18    192096         652         700.0                700.0   \n",
       "19    542215        1844         500.0                500.0   \n",
       "\n",
       "   trans_bank_partner  trans_account_partner trans_type  \\\n",
       "0                 NaN                    NaN     CREDIT   \n",
       "1                 NaN                    NaN     CREDIT   \n",
       "2                 NaN                    NaN     CREDIT   \n",
       "3                 NaN                    NaN     CREDIT   \n",
       "4                 NaN                    NaN     CREDIT   \n",
       "5                 NaN                    NaN     CREDIT   \n",
       "6                 NaN                    NaN     CREDIT   \n",
       "7                 NaN                    NaN     CREDIT   \n",
       "8                 NaN                    NaN     CREDIT   \n",
       "9                 NaN                    NaN     CREDIT   \n",
       "10                NaN                    NaN     CREDIT   \n",
       "11                NaN                    NaN     CREDIT   \n",
       "12                NaN                    NaN     CREDIT   \n",
       "13                NaN                    NaN     CREDIT   \n",
       "14                NaN                    NaN     CREDIT   \n",
       "15                 YZ             62457513.0     CREDIT   \n",
       "16                NaN                    NaN     CREDIT   \n",
       "17                 IJ              6149286.0     CREDIT   \n",
       "18                NaN                    NaN     CREDIT   \n",
       "19                NaN                    NaN     CREDIT   \n",
       "\n",
       "               trans_operation   trans_k_symbol  trans_date  \n",
       "0               CREDIT_IN_CASH          UNKNOWN           0  \n",
       "1               CREDIT_IN_CASH          UNKNOWN           0  \n",
       "2               CREDIT_IN_CASH          UNKNOWN           0  \n",
       "3               CREDIT_IN_CASH          UNKNOWN           0  \n",
       "4               CREDIT_IN_CASH          UNKNOWN           1  \n",
       "5               CREDIT_IN_CASH          UNKNOWN           1  \n",
       "6               CREDIT_IN_CASH          UNKNOWN           2  \n",
       "7               CREDIT_IN_CASH          UNKNOWN           2  \n",
       "8               CREDIT_IN_CASH          UNKNOWN           2  \n",
       "9               CREDIT_IN_CASH          UNKNOWN           2  \n",
       "10              CREDIT_IN_CASH          UNKNOWN           2  \n",
       "11              CREDIT_IN_CASH          UNKNOWN           3  \n",
       "12              CREDIT_IN_CASH          UNKNOWN           3  \n",
       "13              CREDIT_IN_CASH          UNKNOWN           3  \n",
       "14              CREDIT_IN_CASH          UNKNOWN           3  \n",
       "15  COLLECTION_FROM_OTHER_BANK  OLD_AGE_PENSION           4  \n",
       "16              CREDIT_IN_CASH          UNKNOWN           4  \n",
       "17  COLLECTION_FROM_OTHER_BANK          UNKNOWN           4  \n",
       "18              CREDIT_IN_CASH          UNKNOWN           4  \n",
       "19              CREDIT_IN_CASH          UNKNOWN           5  "
      ]
     },
     "execution_count": 39,
     "metadata": {},
     "output_type": "execute_result"
    }
   ],
   "source": [
    "trans_df['date'] = trans_df['date'].map(convert_int_to_date)\n",
    "trans_df['trans_date'] = trans_df['date'].map(convert_date_to_days)\n",
    "del trans_df['date']\n",
    "\n",
    "\n",
    "trans_df = trans_df.rename(columns={'amount': 'trans_amount', 'balance':'balance_after_trans', 'bank':'trans_bank_partner', 'account':'trans_account_partner'})\n",
    "trans_df.head(n=20)"
   ]
  },
  {
   "cell_type": "code",
   "execution_count": 40,
   "metadata": {},
   "outputs": [
    {
     "data": {
      "text/html": [
       "<div>\n",
       "<style scoped>\n",
       "    .dataframe tbody tr th:only-of-type {\n",
       "        vertical-align: middle;\n",
       "    }\n",
       "\n",
       "    .dataframe tbody tr th {\n",
       "        vertical-align: top;\n",
       "    }\n",
       "\n",
       "    .dataframe thead th {\n",
       "        text-align: right;\n",
       "    }\n",
       "</style>\n",
       "<table border=\"1\" class=\"dataframe\">\n",
       "  <thead>\n",
       "    <tr style=\"text-align: right;\">\n",
       "      <th></th>\n",
       "      <th>loan_id</th>\n",
       "      <th>account_id</th>\n",
       "      <th>loan_amount</th>\n",
       "      <th>loan_duration</th>\n",
       "      <th>monthly_loan_payment</th>\n",
       "      <th>loan_status</th>\n",
       "      <th>loan_date</th>\n",
       "    </tr>\n",
       "  </thead>\n",
       "  <tbody>\n",
       "    <tr>\n",
       "      <th>0</th>\n",
       "      <td>5314</td>\n",
       "      <td>1787</td>\n",
       "      <td>96396</td>\n",
       "      <td>12</td>\n",
       "      <td>8033.0</td>\n",
       "      <td>B</td>\n",
       "      <td>185</td>\n",
       "    </tr>\n",
       "    <tr>\n",
       "      <th>1</th>\n",
       "      <td>5316</td>\n",
       "      <td>1801</td>\n",
       "      <td>165960</td>\n",
       "      <td>36</td>\n",
       "      <td>4610.0</td>\n",
       "      <td>A</td>\n",
       "      <td>191</td>\n",
       "    </tr>\n",
       "    <tr>\n",
       "      <th>2</th>\n",
       "      <td>6863</td>\n",
       "      <td>9188</td>\n",
       "      <td>127080</td>\n",
       "      <td>60</td>\n",
       "      <td>2118.0</td>\n",
       "      <td>A</td>\n",
       "      <td>208</td>\n",
       "    </tr>\n",
       "    <tr>\n",
       "      <th>3</th>\n",
       "      <td>5325</td>\n",
       "      <td>1843</td>\n",
       "      <td>105804</td>\n",
       "      <td>36</td>\n",
       "      <td>2939.0</td>\n",
       "      <td>A</td>\n",
       "      <td>214</td>\n",
       "    </tr>\n",
       "    <tr>\n",
       "      <th>4</th>\n",
       "      <td>7240</td>\n",
       "      <td>11013</td>\n",
       "      <td>274740</td>\n",
       "      <td>60</td>\n",
       "      <td>4579.0</td>\n",
       "      <td>A</td>\n",
       "      <td>248</td>\n",
       "    </tr>\n",
       "  </tbody>\n",
       "</table>\n",
       "</div>"
      ],
      "text/plain": [
       "   loan_id  account_id  loan_amount  loan_duration  monthly_loan_payment  \\\n",
       "0     5314        1787        96396             12                8033.0   \n",
       "1     5316        1801       165960             36                4610.0   \n",
       "2     6863        9188       127080             60                2118.0   \n",
       "3     5325        1843       105804             36                2939.0   \n",
       "4     7240       11013       274740             60                4579.0   \n",
       "\n",
       "  loan_status  loan_date  \n",
       "0           B        185  \n",
       "1           A        191  \n",
       "2           A        208  \n",
       "3           A        214  \n",
       "4           A        248  "
      ]
     },
     "execution_count": 40,
     "metadata": {},
     "output_type": "execute_result"
    }
   ],
   "source": [
    "loan_df.head()"
   ]
  },
  {
   "cell_type": "code",
   "execution_count": 41,
   "metadata": {
    "scrolled": false
   },
   "outputs": [
    {
     "name": "stdout",
     "output_type": "stream",
     "text": [
      "Missing account ids in loan_df: 0\n",
      "\n",
      "Loans/account: 0.15155555555555555\n",
      "\n",
      "count     682.000000\n",
      "mean     1367.233138\n",
      "std       530.368738\n",
      "min       185.000000\n",
      "25%       914.500000\n",
      "50%      1497.500000\n",
      "75%      1806.500000\n",
      "max      2167.000000\n",
      "Name: loan_date, dtype: float64\n"
     ]
    },
    {
     "data": {
      "image/png": "[encoded data removed]",
      "text/plain": [
       "<matplotlib.figure.Figure at 0x7f90404d93c8>"
      ]
     },
     "metadata": {},
     "output_type": "display_data"
    },
    {
     "data": {
      "image/png": "[encoded data removed]",
      "text/plain": [
       "<matplotlib.figure.Figure at 0x7f9040464550>"
      ]
     },
     "metadata": {},
     "output_type": "display_data"
    },
    {
     "data": {
      "image/png": "[encoded data removed]",
      "text/plain": [
       "<matplotlib.figure.Figure at 0x7f903e3fd278>"
      ]
     },
     "metadata": {},
     "output_type": "display_data"
    },
    {
     "data": {
      "text/plain": [
       "array([<matplotlib.axes._subplots.AxesSubplot object at 0x7f903dfc0400>], dtype=object)"
      ]
     },
     "execution_count": 41,
     "metadata": {},
     "output_type": "execute_result"
    },
    {
     "data": {
      "image/png": "[encoded data removed]",
      "text/plain": [
       "<matplotlib.figure.Figure at 0x7f903dffac18>"
      ]
     },
     "metadata": {},
     "output_type": "display_data"
    }
   ],
   "source": [
    "# data quality checks for loan.\n",
    "\n",
    "# count how many are in loan_df but not in account_df\n",
    "missing_account_ids = np.isin(loan_df['account_id'], account_df['account_id'], invert=True).sum()\n",
    "print('Missing account ids in loan_df: {}'.format(missing_account_ids))\n",
    "\n",
    "print()\n",
    "# loans per account. Does this make sense?\n",
    "loans_per_account = len(loan_df)/len(account_df)\n",
    "print('Loans/account: {}'.format(loans_per_account))\n",
    "\n",
    "print()\n",
    "\n",
    "# print summary of loan_date. Earliest occurred in 1993. Latest in 1999.\n",
    "print(loan_df['loan_date'].describe())\n",
    "\n",
    "# look at date.\n",
    "histogram(loan_df, 'loan_date', 300)\n",
    "    \n",
    "# look at loan_duration.\n",
    "histogram(loan_df, 'loan_duration', 10)\n",
    "\n",
    "# look at monthly_loan_payment.\n",
    "histogram(loan_df, 'monthly_loan_payment', 100)\n",
    "\n",
    "# look at loan_status.\n",
    "#\n",
    "# 'A stands for contract finished, no problems,\n",
    "# 'B' stands for contract finished, loan not payed,\n",
    "# 'C' stands for running contract, OK so far,\n",
    "# 'D' stands for running contract, client in debt\n",
    "# Seems to make sense.\n",
    "#\n",
    "loan_df['loan_status'].value_counts().plot(kind='bar', subplots=True)"
   ]
  },
  {
   "cell_type": "code",
   "execution_count": 42,
   "metadata": {},
   "outputs": [
    {
     "data": {
      "text/plain": [
       "<matplotlib.axes._subplots.AxesSubplot at 0x7f9040464828>"
      ]
     },
     "execution_count": 42,
     "metadata": {},
     "output_type": "execute_result"
    },
    {
     "data": {
      "image/png": "[encoded data removed]",
      "text/plain": [
       "<matplotlib.figure.Figure at 0x7f90404d3978>"
      ]
     },
     "metadata": {},
     "output_type": "display_data"
    }
   ],
   "source": [
    "#\n",
    "# this shows that only one loan for each account that got one.\n",
    "#\n",
    "account_count = loan_df.groupby(['account_id'])['loan_id'].count()\n",
    "account_count.hist()"
   ]
  },
  {
   "cell_type": "code",
   "execution_count": 43,
   "metadata": {},
   "outputs": [
    {
     "name": "stdout",
     "output_type": "stream",
     "text": [
      "Missing account ids in order_df: 0\n",
      "\n",
      "orders/account: 1.438\n",
      "\n"
     ]
    },
    {
     "data": {
      "image/png": "[encoded data removed]",
      "text/plain": [
       "<matplotlib.figure.Figure at 0x7f903de5a6d8>"
      ]
     },
     "metadata": {},
     "output_type": "display_data"
    },
    {
     "data": {
      "text/plain": [
       "<matplotlib.axes._subplots.AxesSubplot at 0x7f903c53abe0>"
      ]
     },
     "execution_count": 43,
     "metadata": {},
     "output_type": "execute_result"
    },
    {
     "data": {
      "image/png": "[encoded data removed]",
      "text/plain": [
       "<matplotlib.figure.Figure at 0x7f903c56ea90>"
      ]
     },
     "metadata": {},
     "output_type": "display_data"
    }
   ],
   "source": [
    "# data quality checks for order.\n",
    "\n",
    "# orders have no dat?\n",
    "\n",
    "# count how many are in loan_df but not in account_df\n",
    "missing_account_ids = np.isin(order_df['account_id'], order_df['account_id'], invert=True).sum()\n",
    "print('Missing account ids in order_df: {}'.format(missing_account_ids))\n",
    "\n",
    "print()\n",
    "# orders per account. Does this make sense?\n",
    "orders_per_account = len(order_df)/len(account_df)\n",
    "print('orders/account: {}'.format(orders_per_account))\n",
    "\n",
    "print()\n",
    "\n",
    "# look at order_amount.\n",
    "histogram(order_df, 'order_amount', 300)\n",
    "    \n",
    "order_df['order_k_symbol'].value_counts().plot(kind='bar')\n"
   ]
  },
  {
   "cell_type": "code",
   "execution_count": 44,
   "metadata": {},
   "outputs": [
    {
     "data": {
      "text/html": [
       "<div>\n",
       "<style scoped>\n",
       "    .dataframe tbody tr th:only-of-type {\n",
       "        vertical-align: middle;\n",
       "    }\n",
       "\n",
       "    .dataframe tbody tr th {\n",
       "        vertical-align: top;\n",
       "    }\n",
       "\n",
       "    .dataframe thead th {\n",
       "        text-align: right;\n",
       "    }\n",
       "</style>\n",
       "<table border=\"1\" class=\"dataframe\">\n",
       "  <thead>\n",
       "    <tr style=\"text-align: right;\">\n",
       "      <th></th>\n",
       "      <th>order_id</th>\n",
       "      <th>account_id</th>\n",
       "      <th>order_bank_to</th>\n",
       "      <th>order_account_to</th>\n",
       "      <th>order_amount</th>\n",
       "      <th>order_k_symbol</th>\n",
       "    </tr>\n",
       "  </thead>\n",
       "  <tbody>\n",
       "    <tr>\n",
       "      <th>0</th>\n",
       "      <td>29401</td>\n",
       "      <td>1</td>\n",
       "      <td>YZ</td>\n",
       "      <td>87144583</td>\n",
       "      <td>2452.0</td>\n",
       "      <td>HOUSEHOLD_PAYMENT</td>\n",
       "    </tr>\n",
       "    <tr>\n",
       "      <th>1</th>\n",
       "      <td>29402</td>\n",
       "      <td>2</td>\n",
       "      <td>ST</td>\n",
       "      <td>89597016</td>\n",
       "      <td>3372.7</td>\n",
       "      <td>LOAN_PAYMENT</td>\n",
       "    </tr>\n",
       "    <tr>\n",
       "      <th>2</th>\n",
       "      <td>29403</td>\n",
       "      <td>2</td>\n",
       "      <td>QR</td>\n",
       "      <td>13943797</td>\n",
       "      <td>7266.0</td>\n",
       "      <td>HOUSEHOLD_PAYMENT</td>\n",
       "    </tr>\n",
       "    <tr>\n",
       "      <th>3</th>\n",
       "      <td>29404</td>\n",
       "      <td>3</td>\n",
       "      <td>WX</td>\n",
       "      <td>83084338</td>\n",
       "      <td>1135.0</td>\n",
       "      <td>HOUSEHOLD_PAYMENT</td>\n",
       "    </tr>\n",
       "    <tr>\n",
       "      <th>4</th>\n",
       "      <td>29405</td>\n",
       "      <td>3</td>\n",
       "      <td>CD</td>\n",
       "      <td>24485939</td>\n",
       "      <td>327.0</td>\n",
       "      <td>UNKNOWN</td>\n",
       "    </tr>\n",
       "  </tbody>\n",
       "</table>\n",
       "</div>"
      ],
      "text/plain": [
       "   order_id  account_id order_bank_to  order_account_to  order_amount  \\\n",
       "0     29401           1            YZ          87144583        2452.0   \n",
       "1     29402           2            ST          89597016        3372.7   \n",
       "2     29403           2            QR          13943797        7266.0   \n",
       "3     29404           3            WX          83084338        1135.0   \n",
       "4     29405           3            CD          24485939         327.0   \n",
       "\n",
       "      order_k_symbol  \n",
       "0  HOUSEHOLD_PAYMENT  \n",
       "1       LOAN_PAYMENT  \n",
       "2  HOUSEHOLD_PAYMENT  \n",
       "3  HOUSEHOLD_PAYMENT  \n",
       "4            UNKNOWN  "
      ]
     },
     "execution_count": 44,
     "metadata": {},
     "output_type": "execute_result"
    }
   ],
   "source": [
    "order_df.head()"
   ]
  },
  {
   "cell_type": "code",
   "execution_count": 45,
   "metadata": {},
   "outputs": [
    {
     "data": {
      "text/plain": [
       "<matplotlib.axes._subplots.AxesSubplot at 0x7f90404b9710>"
      ]
     },
     "execution_count": 45,
     "metadata": {},
     "output_type": "execute_result"
    },
    {
     "data": {
      "image/png": "[encoded data removed]",
      "text/plain": [
       "<matplotlib.figure.Figure at 0x7f903de70710>"
      ]
     },
     "metadata": {},
     "output_type": "display_data"
    }
   ],
   "source": [
    "# histogram of the number of orders per account_id\n",
    "account_count = order_df.groupby(['account_id'])['order_id'].count()\n",
    "account_count.hist()"
   ]
  },
  {
   "cell_type": "code",
   "execution_count": 46,
   "metadata": {},
   "outputs": [
    {
     "data": {
      "text/plain": [
       "<matplotlib.axes._subplots.AxesSubplot at 0x7f903c1fdda0>"
      ]
     },
     "execution_count": 46,
     "metadata": {},
     "output_type": "execute_result"
    },
    {
     "data": {
      "image/png": "[encoded data removed]",
      "text/plain": [
       "<matplotlib.figure.Figure at 0x7f903c53a8d0>"
      ]
     },
     "metadata": {},
     "output_type": "display_data"
    }
   ],
   "source": [
    "# histogram of the number of orders per order_bank_to\n",
    "bank_count = order_df.groupby(['order_bank_to'])['order_id'].count()\n",
    "bank_count.hist()"
   ]
  },
  {
   "cell_type": "code",
   "execution_count": 47,
   "metadata": {},
   "outputs": [
    {
     "data": {
      "text/plain": [
       "<matplotlib.axes._subplots.AxesSubplot at 0x7f903ddf2f98>"
      ]
     },
     "execution_count": 47,
     "metadata": {},
     "output_type": "execute_result"
    },
    {
     "data": {
      "image/png": "[encoded data removed]",
      "text/plain": [
       "<matplotlib.figure.Figure at 0x7f903c157d30>"
      ]
     },
     "metadata": {},
     "output_type": "display_data"
    }
   ],
   "source": [
    "# histogram of the number of orders per order_account_to\n",
    "\n",
    "#\n",
    "# Usually not sent to the same account more than once.\n",
    "#\n",
    "order_account_count = order_df.groupby(['order_account_to'])['order_id'].count()\n",
    "order_account_count.hist()"
   ]
  },
  {
   "cell_type": "code",
   "execution_count": 48,
   "metadata": {},
   "outputs": [
    {
     "data": {
      "text/html": [
       "<div>\n",
       "<style scoped>\n",
       "    .dataframe tbody tr th:only-of-type {\n",
       "        vertical-align: middle;\n",
       "    }\n",
       "\n",
       "    .dataframe tbody tr th {\n",
       "        vertical-align: top;\n",
       "    }\n",
       "\n",
       "    .dataframe thead th {\n",
       "        text-align: right;\n",
       "    }\n",
       "</style>\n",
       "<table border=\"1\" class=\"dataframe\">\n",
       "  <thead>\n",
       "    <tr style=\"text-align: right;\">\n",
       "      <th></th>\n",
       "      <th>trans_id</th>\n",
       "      <th>account_id</th>\n",
       "      <th>trans_amount</th>\n",
       "      <th>balance_after_trans</th>\n",
       "      <th>trans_bank_partner</th>\n",
       "      <th>trans_account_partner</th>\n",
       "      <th>trans_type</th>\n",
       "      <th>trans_operation</th>\n",
       "      <th>trans_k_symbol</th>\n",
       "      <th>trans_date</th>\n",
       "    </tr>\n",
       "  </thead>\n",
       "  <tbody>\n",
       "    <tr>\n",
       "      <th>0</th>\n",
       "      <td>695247</td>\n",
       "      <td>2378</td>\n",
       "      <td>700.0</td>\n",
       "      <td>700.0</td>\n",
       "      <td>NaN</td>\n",
       "      <td>NaN</td>\n",
       "      <td>CREDIT</td>\n",
       "      <td>CREDIT_IN_CASH</td>\n",
       "      <td>UNKNOWN</td>\n",
       "      <td>0</td>\n",
       "    </tr>\n",
       "    <tr>\n",
       "      <th>1</th>\n",
       "      <td>171812</td>\n",
       "      <td>576</td>\n",
       "      <td>900.0</td>\n",
       "      <td>900.0</td>\n",
       "      <td>NaN</td>\n",
       "      <td>NaN</td>\n",
       "      <td>CREDIT</td>\n",
       "      <td>CREDIT_IN_CASH</td>\n",
       "      <td>UNKNOWN</td>\n",
       "      <td>0</td>\n",
       "    </tr>\n",
       "    <tr>\n",
       "      <th>2</th>\n",
       "      <td>207264</td>\n",
       "      <td>704</td>\n",
       "      <td>1000.0</td>\n",
       "      <td>1000.0</td>\n",
       "      <td>NaN</td>\n",
       "      <td>NaN</td>\n",
       "      <td>CREDIT</td>\n",
       "      <td>CREDIT_IN_CASH</td>\n",
       "      <td>UNKNOWN</td>\n",
       "      <td>0</td>\n",
       "    </tr>\n",
       "    <tr>\n",
       "      <th>3</th>\n",
       "      <td>1117247</td>\n",
       "      <td>3818</td>\n",
       "      <td>600.0</td>\n",
       "      <td>600.0</td>\n",
       "      <td>NaN</td>\n",
       "      <td>NaN</td>\n",
       "      <td>CREDIT</td>\n",
       "      <td>CREDIT_IN_CASH</td>\n",
       "      <td>UNKNOWN</td>\n",
       "      <td>0</td>\n",
       "    </tr>\n",
       "    <tr>\n",
       "      <th>4</th>\n",
       "      <td>579373</td>\n",
       "      <td>1972</td>\n",
       "      <td>400.0</td>\n",
       "      <td>400.0</td>\n",
       "      <td>NaN</td>\n",
       "      <td>NaN</td>\n",
       "      <td>CREDIT</td>\n",
       "      <td>CREDIT_IN_CASH</td>\n",
       "      <td>UNKNOWN</td>\n",
       "      <td>1</td>\n",
       "    </tr>\n",
       "  </tbody>\n",
       "</table>\n",
       "</div>"
      ],
      "text/plain": [
       "   trans_id  account_id  trans_amount  balance_after_trans trans_bank_partner  \\\n",
       "0    695247        2378         700.0                700.0                NaN   \n",
       "1    171812         576         900.0                900.0                NaN   \n",
       "2    207264         704        1000.0               1000.0                NaN   \n",
       "3   1117247        3818         600.0                600.0                NaN   \n",
       "4    579373        1972         400.0                400.0                NaN   \n",
       "\n",
       "   trans_account_partner trans_type trans_operation trans_k_symbol  trans_date  \n",
       "0                    NaN     CREDIT  CREDIT_IN_CASH        UNKNOWN           0  \n",
       "1                    NaN     CREDIT  CREDIT_IN_CASH        UNKNOWN           0  \n",
       "2                    NaN     CREDIT  CREDIT_IN_CASH        UNKNOWN           0  \n",
       "3                    NaN     CREDIT  CREDIT_IN_CASH        UNKNOWN           0  \n",
       "4                    NaN     CREDIT  CREDIT_IN_CASH        UNKNOWN           1  "
      ]
     },
     "execution_count": 48,
     "metadata": {},
     "output_type": "execute_result"
    }
   ],
   "source": [
    "trans_df.head()"
   ]
  },
  {
   "cell_type": "code",
   "execution_count": 49,
   "metadata": {},
   "outputs": [
    {
     "name": "stdout",
     "output_type": "stream",
     "text": [
      "Missing account ids in trans_df: 0\n",
      "\n",
      "transactions/account: 234.73777777777778\n",
      "\n"
     ]
    },
    {
     "data": {
      "image/png": "[encoded data removed]",
      "text/plain": [
       "<matplotlib.figure.Figure at 0x7f903c544ac8>"
      ]
     },
     "metadata": {},
     "output_type": "display_data"
    },
    {
     "data": {
      "image/png": "[encoded data removed]",
      "text/plain": [
       "<matplotlib.figure.Figure at 0x7f903c111898>"
      ]
     },
     "metadata": {},
     "output_type": "display_data"
    },
    {
     "data": {
      "image/png": "[encoded data removed]",
      "text/plain": [
       "<matplotlib.figure.Figure at 0x7f903c18f5f8>"
      ]
     },
     "metadata": {},
     "output_type": "display_data"
    },
    {
     "data": {
      "text/plain": [
       "array([<matplotlib.axes._subplots.AxesSubplot object at 0x7f903be650b8>], dtype=object)"
      ]
     },
     "execution_count": 49,
     "metadata": {},
     "output_type": "execute_result"
    },
    {
     "data": {
      "image/png": "[encoded data removed]",
      "text/plain": [
       "<matplotlib.figure.Figure at 0x7f903bead828>"
      ]
     },
     "metadata": {},
     "output_type": "display_data"
    }
   ],
   "source": [
    "# data quality checks for trans_df.\n",
    "\n",
    "# count how many are in loan_df but not in account_df\n",
    "missing_account_ids = np.isin(trans_df['account_id'], account_df['account_id'], invert=True).sum()\n",
    "print('Missing account ids in trans_df: {}'.format(missing_account_ids))\n",
    "\n",
    "print()\n",
    "# loans per account. Does this make sense?\n",
    "trx_per_account = len(trans_df)/len(account_df)\n",
    "print('transactions/account: {}'.format(trx_per_account))\n",
    "\n",
    "print()\n",
    "\n",
    "# look at date.\n",
    "histogram(trans_df, 'trans_date', 1000)\n",
    "    \n",
    "# look at loan_duration.\n",
    "histogram(trans_df, 'trans_amount', 100)\n",
    "\n",
    "# look at monthly_loan_payment.\n",
    "histogram(trans_df, 'balance_after_trans', 100)\n",
    "\n",
    "# look at trans_type.\n",
    "trans_df['trans_type'].value_counts().plot(kind='bar', subplots=True)"
   ]
  },
  {
   "cell_type": "code",
   "execution_count": 50,
   "metadata": {},
   "outputs": [
    {
     "data": {
      "text/plain": [
       "array([<matplotlib.axes._subplots.AxesSubplot object at 0x7f903c3d47b8>], dtype=object)"
      ]
     },
     "execution_count": 50,
     "metadata": {},
     "output_type": "execute_result"
    },
    {
     "data": {
      "image/png": "[encoded data removed]",
      "text/plain": [
       "<matplotlib.figure.Figure at 0x7f903c2a1da0>"
      ]
     },
     "metadata": {},
     "output_type": "display_data"
    }
   ],
   "source": [
    "# look at trans_type.\n",
    "trans_df['trans_operation'].value_counts().plot(kind='bar', subplots=True)"
   ]
  },
  {
   "cell_type": "code",
   "execution_count": 51,
   "metadata": {},
   "outputs": [
    {
     "data": {
      "text/plain": [
       "array([<matplotlib.axes._subplots.AxesSubplot object at 0x7f903c3767f0>], dtype=object)"
      ]
     },
     "execution_count": 51,
     "metadata": {},
     "output_type": "execute_result"
    },
    {
     "data": {
      "image/png": "[encoded data removed]",
      "text/plain": [
       "<matplotlib.figure.Figure at 0x7f903c259a20>"
      ]
     },
     "metadata": {},
     "output_type": "display_data"
    }
   ],
   "source": [
    "# look at trans_k_symbol.\n",
    "trans_df['trans_k_symbol'].value_counts().plot(kind='bar', subplots=True)\n"
   ]
  },
  {
   "cell_type": "code",
   "execution_count": 52,
   "metadata": {},
   "outputs": [
    {
     "data": {
      "text/html": [
       "<div>\n",
       "<style scoped>\n",
       "    .dataframe tbody tr th:only-of-type {\n",
       "        vertical-align: middle;\n",
       "    }\n",
       "\n",
       "    .dataframe tbody tr th {\n",
       "        vertical-align: top;\n",
       "    }\n",
       "\n",
       "    .dataframe thead th {\n",
       "        text-align: right;\n",
       "    }\n",
       "</style>\n",
       "<table border=\"1\" class=\"dataframe\">\n",
       "  <thead>\n",
       "    <tr style=\"text-align: right;\">\n",
       "      <th></th>\n",
       "      <th>disp_id</th>\n",
       "      <th>client_id</th>\n",
       "      <th>account_id</th>\n",
       "      <th>disp_type</th>\n",
       "    </tr>\n",
       "  </thead>\n",
       "  <tbody>\n",
       "    <tr>\n",
       "      <th>0</th>\n",
       "      <td>1</td>\n",
       "      <td>1</td>\n",
       "      <td>1</td>\n",
       "      <td>OWNER</td>\n",
       "    </tr>\n",
       "    <tr>\n",
       "      <th>1</th>\n",
       "      <td>2</td>\n",
       "      <td>2</td>\n",
       "      <td>2</td>\n",
       "      <td>OWNER</td>\n",
       "    </tr>\n",
       "    <tr>\n",
       "      <th>2</th>\n",
       "      <td>3</td>\n",
       "      <td>3</td>\n",
       "      <td>2</td>\n",
       "      <td>DISPONENT</td>\n",
       "    </tr>\n",
       "    <tr>\n",
       "      <th>3</th>\n",
       "      <td>4</td>\n",
       "      <td>4</td>\n",
       "      <td>3</td>\n",
       "      <td>OWNER</td>\n",
       "    </tr>\n",
       "    <tr>\n",
       "      <th>4</th>\n",
       "      <td>5</td>\n",
       "      <td>5</td>\n",
       "      <td>3</td>\n",
       "      <td>DISPONENT</td>\n",
       "    </tr>\n",
       "  </tbody>\n",
       "</table>\n",
       "</div>"
      ],
      "text/plain": [
       "   disp_id  client_id  account_id  disp_type\n",
       "0        1          1           1      OWNER\n",
       "1        2          2           2      OWNER\n",
       "2        3          3           2  DISPONENT\n",
       "3        4          4           3      OWNER\n",
       "4        5          5           3  DISPONENT"
      ]
     },
     "execution_count": 52,
     "metadata": {},
     "output_type": "execute_result"
    }
   ],
   "source": [
    "disp_df.head()"
   ]
  },
  {
   "cell_type": "code",
   "execution_count": 53,
   "metadata": {},
   "outputs": [
    {
     "name": "stdout",
     "output_type": "stream",
     "text": [
      "Missing account ids in disp_df: 0\n",
      "Missing client ids in disp_df: 0\n",
      "Missing account ids in account_df: 0\n",
      "Missing client ids in client_df: 0\n",
      "dispositions/account: 1.193111111111111\n",
      "Missing account ids in owners: 0\n"
     ]
    },
    {
     "data": {
      "image/png": "[encoded data removed]",
      "text/plain": [
       "<matplotlib.figure.Figure at 0x7f903c2f1518>"
      ]
     },
     "metadata": {},
     "output_type": "display_data"
    }
   ],
   "source": [
    "# count how many are in disp_df but not in account_df\n",
    "missing_account_ids = np.isin(disp_df['account_id'], account_df['account_id'], invert=True).sum()\n",
    "print('Missing account ids in disp_df: {}'.format(missing_account_ids))\n",
    "\n",
    "# count how many are in disp_df but not in client_df\n",
    "missing_client_ids = np.isin(disp_df['client_id'], client_df['client_id'], invert=True).sum()\n",
    "print('Missing client ids in disp_df: {}'.format(missing_client_ids))\n",
    "\n",
    "# count how many are in client_df but not in account_df\n",
    "missing_account_ids = np.isin(account_df['account_id'], disp_df['account_id'], invert=True).sum()\n",
    "print('Missing account ids in account_df: {}'.format(missing_account_ids))\n",
    "\n",
    "# count how many are in client_df but not in disp_df\n",
    "missing_client_ids = np.isin(client_df['client_id'], disp_df['client_id'], invert=True).sum()\n",
    "print('Missing client ids in client_df: {}'.format(missing_client_ids))\n",
    "\n",
    "\n",
    "disp_per_account = len(disp_df)/len(account_df)\n",
    "print('dispositions/account: {}'.format(disp_per_account))\n",
    "\n",
    "\n",
    "# look at trans_k_symbol.\n",
    "disp_df['disp_type'].value_counts().plot(kind='bar', subplots=True)\n",
    "disp_df['disp_type'].value_counts()\n",
    "\n",
    "# does every account have an owner. YES!\n",
    "owners = disp_df.loc[disp_df['disp_type'] == 'OWNER']\n",
    "missing_account_ids = np.isin(account_df['account_id'], owners['account_id'], invert=True).sum()\n",
    "print('Missing account ids in owners: {}'.format(missing_account_ids))"
   ]
  },
  {
   "cell_type": "code",
   "execution_count": 54,
   "metadata": {},
   "outputs": [
    {
     "data": {
      "text/html": [
       "<div>\n",
       "<style scoped>\n",
       "    .dataframe tbody tr th:only-of-type {\n",
       "        vertical-align: middle;\n",
       "    }\n",
       "\n",
       "    .dataframe tbody tr th {\n",
       "        vertical-align: top;\n",
       "    }\n",
       "\n",
       "    .dataframe thead th {\n",
       "        text-align: right;\n",
       "    }\n",
       "</style>\n",
       "<table border=\"1\" class=\"dataframe\">\n",
       "  <thead>\n",
       "    <tr style=\"text-align: right;\">\n",
       "      <th></th>\n",
       "      <th>district_id</th>\n",
       "      <th>district_name</th>\n",
       "      <th>region</th>\n",
       "      <th>num_inhabitants</th>\n",
       "      <th>num_munipalities_gt499</th>\n",
       "      <th>num_munipalities_500to1999</th>\n",
       "      <th>num_munipalities_2000to9999</th>\n",
       "      <th>num_munipalities_gt10000</th>\n",
       "      <th>num_cities</th>\n",
       "      <th>ratio_urban</th>\n",
       "      <th>average_salary</th>\n",
       "      <th>unemp_rate95</th>\n",
       "      <th>unemp_rate96</th>\n",
       "      <th>num_entrep_per1000</th>\n",
       "      <th>num_crimes95</th>\n",
       "      <th>num_crimes96</th>\n",
       "    </tr>\n",
       "  </thead>\n",
       "  <tbody>\n",
       "    <tr>\n",
       "      <th>0</th>\n",
       "      <td>1</td>\n",
       "      <td>Hl.m. Praha</td>\n",
       "      <td>Prague</td>\n",
       "      <td>1204953</td>\n",
       "      <td>0</td>\n",
       "      <td>0</td>\n",
       "      <td>0</td>\n",
       "      <td>1</td>\n",
       "      <td>1</td>\n",
       "      <td>100.0</td>\n",
       "      <td>12541</td>\n",
       "      <td>0.29</td>\n",
       "      <td>0.43</td>\n",
       "      <td>167</td>\n",
       "      <td>85677</td>\n",
       "      <td>99107</td>\n",
       "    </tr>\n",
       "    <tr>\n",
       "      <th>1</th>\n",
       "      <td>2</td>\n",
       "      <td>Benesov</td>\n",
       "      <td>central Bohemia</td>\n",
       "      <td>88884</td>\n",
       "      <td>80</td>\n",
       "      <td>26</td>\n",
       "      <td>6</td>\n",
       "      <td>2</td>\n",
       "      <td>5</td>\n",
       "      <td>46.7</td>\n",
       "      <td>8507</td>\n",
       "      <td>1.67</td>\n",
       "      <td>1.85</td>\n",
       "      <td>132</td>\n",
       "      <td>2159</td>\n",
       "      <td>2674</td>\n",
       "    </tr>\n",
       "    <tr>\n",
       "      <th>2</th>\n",
       "      <td>3</td>\n",
       "      <td>Beroun</td>\n",
       "      <td>central Bohemia</td>\n",
       "      <td>75232</td>\n",
       "      <td>55</td>\n",
       "      <td>26</td>\n",
       "      <td>4</td>\n",
       "      <td>1</td>\n",
       "      <td>5</td>\n",
       "      <td>41.7</td>\n",
       "      <td>8980</td>\n",
       "      <td>1.95</td>\n",
       "      <td>2.21</td>\n",
       "      <td>111</td>\n",
       "      <td>2824</td>\n",
       "      <td>2813</td>\n",
       "    </tr>\n",
       "    <tr>\n",
       "      <th>3</th>\n",
       "      <td>4</td>\n",
       "      <td>Kladno</td>\n",
       "      <td>central Bohemia</td>\n",
       "      <td>149893</td>\n",
       "      <td>63</td>\n",
       "      <td>29</td>\n",
       "      <td>6</td>\n",
       "      <td>2</td>\n",
       "      <td>6</td>\n",
       "      <td>67.4</td>\n",
       "      <td>9753</td>\n",
       "      <td>4.64</td>\n",
       "      <td>5.05</td>\n",
       "      <td>109</td>\n",
       "      <td>5244</td>\n",
       "      <td>5892</td>\n",
       "    </tr>\n",
       "    <tr>\n",
       "      <th>4</th>\n",
       "      <td>5</td>\n",
       "      <td>Kolin</td>\n",
       "      <td>central Bohemia</td>\n",
       "      <td>95616</td>\n",
       "      <td>65</td>\n",
       "      <td>30</td>\n",
       "      <td>4</td>\n",
       "      <td>1</td>\n",
       "      <td>6</td>\n",
       "      <td>51.4</td>\n",
       "      <td>9307</td>\n",
       "      <td>3.85</td>\n",
       "      <td>4.43</td>\n",
       "      <td>118</td>\n",
       "      <td>2616</td>\n",
       "      <td>3040</td>\n",
       "    </tr>\n",
       "  </tbody>\n",
       "</table>\n",
       "</div>"
      ],
      "text/plain": [
       "   district_id district_name           region  num_inhabitants  \\\n",
       "0            1   Hl.m. Praha           Prague          1204953   \n",
       "1            2       Benesov  central Bohemia            88884   \n",
       "2            3        Beroun  central Bohemia            75232   \n",
       "3            4        Kladno  central Bohemia           149893   \n",
       "4            5         Kolin  central Bohemia            95616   \n",
       "\n",
       "   num_munipalities_gt499  num_munipalities_500to1999  \\\n",
       "0                       0                           0   \n",
       "1                      80                          26   \n",
       "2                      55                          26   \n",
       "3                      63                          29   \n",
       "4                      65                          30   \n",
       "\n",
       "   num_munipalities_2000to9999  num_munipalities_gt10000  num_cities  \\\n",
       "0                            0                         1           1   \n",
       "1                            6                         2           5   \n",
       "2                            4                         1           5   \n",
       "3                            6                         2           6   \n",
       "4                            4                         1           6   \n",
       "\n",
       "   ratio_urban  average_salary  unemp_rate95  unemp_rate96  \\\n",
       "0        100.0           12541          0.29          0.43   \n",
       "1         46.7            8507          1.67          1.85   \n",
       "2         41.7            8980          1.95          2.21   \n",
       "3         67.4            9753          4.64          5.05   \n",
       "4         51.4            9307          3.85          4.43   \n",
       "\n",
       "   num_entrep_per1000  num_crimes95  num_crimes96  \n",
       "0                 167         85677         99107  \n",
       "1                 132          2159          2674  \n",
       "2                 111          2824          2813  \n",
       "3                 109          5244          5892  \n",
       "4                 118          2616          3040  "
      ]
     },
     "execution_count": 54,
     "metadata": {},
     "output_type": "execute_result"
    }
   ],
   "source": [
    "district_df.head()"
   ]
  },
  {
   "cell_type": "code",
   "execution_count": 55,
   "metadata": {},
   "outputs": [
    {
     "name": "stdout",
     "output_type": "stream",
     "text": [
      "Missing district ids in account_df: 0\n",
      "Missing district ids in client_df: 0\n"
     ]
    },
    {
     "data": {
      "image/png": "[encoded data removed]",
      "text/plain": [
       "<matplotlib.figure.Figure at 0x7f903dee6da0>"
      ]
     },
     "metadata": {},
     "output_type": "display_data"
    },
    {
     "data": {
      "image/png": "[encoded data removed]",
      "text/plain": [
       "<matplotlib.figure.Figure at 0x7f903dee6048>"
      ]
     },
     "metadata": {},
     "output_type": "display_data"
    },
    {
     "data": {
      "image/png": "[encoded data removed]",
      "text/plain": [
       "<matplotlib.figure.Figure at 0x7f903c26e908>"
      ]
     },
     "metadata": {},
     "output_type": "display_data"
    },
    {
     "data": {
      "image/png": "[encoded data removed]",
      "text/plain": [
       "<matplotlib.figure.Figure at 0x7f903e06ee80>"
      ]
     },
     "metadata": {},
     "output_type": "display_data"
    },
    {
     "data": {
      "image/png": "[encoded data removed]",
      "text/plain": [
       "<matplotlib.figure.Figure at 0x7f903e3b9c50>"
      ]
     },
     "metadata": {},
     "output_type": "display_data"
    },
    {
     "data": {
      "image/png": "[encoded data removed]",
      "text/plain": [
       "<matplotlib.figure.Figure at 0x7f903e3b9cc0>"
      ]
     },
     "metadata": {},
     "output_type": "display_data"
    },
    {
     "data": {
      "image/png": "[encoded data removed]",
      "text/plain": [
       "<matplotlib.figure.Figure at 0x7f903e09a470>"
      ]
     },
     "metadata": {},
     "output_type": "display_data"
    },
    {
     "data": {
      "image/png": "[encoded data removed]",
      "text/plain": [
       "<matplotlib.figure.Figure at 0x7f9036dba748>"
      ]
     },
     "metadata": {},
     "output_type": "display_data"
    },
    {
     "data": {
      "image/png": "[encoded data removed]",
      "text/plain": [
       "<matplotlib.figure.Figure at 0x7f903e1cce10>"
      ]
     },
     "metadata": {},
     "output_type": "display_data"
    },
    {
     "data": {
      "image/png": "[encoded data removed]",
      "text/plain": [
       "<matplotlib.figure.Figure at 0x7f903bf9aa20>"
      ]
     },
     "metadata": {},
     "output_type": "display_data"
    },
    {
     "data": {
      "image/png": "[encoded data removed]",
      "text/plain": [
       "<matplotlib.figure.Figure at 0x7f903bf9ad30>"
      ]
     },
     "metadata": {},
     "output_type": "display_data"
    },
    {
     "data": {
      "image/png": "[encoded data removed]",
      "text/plain": [
       "<matplotlib.figure.Figure at 0x7f903c4bde48>"
      ]
     },
     "metadata": {},
     "output_type": "display_data"
    },
    {
     "data": {
      "image/png": "[encoded data removed]",
      "text/plain": [
       "<matplotlib.figure.Figure at 0x7f903e313358>"
      ]
     },
     "metadata": {},
     "output_type": "display_data"
    }
   ],
   "source": [
    "# count how many are in account_df but not in district_df\n",
    "missing_district_ids = np.isin(account_df['account_district_id'], district_df['district_id'], invert=True).sum()\n",
    "print('Missing district ids in account_df: {}'.format(missing_district_ids))\n",
    "\n",
    "missing_district_ids = np.isin(client_df['client_district_id'], district_df['district_id'], invert=True).sum()\n",
    "print('Missing district ids in client_df: {}'.format(missing_district_ids))\n",
    "\n",
    "# look at trans_k_symbol.\n",
    "district_df['region'].value_counts().plot(kind='bar', subplots=True)\n",
    "\n",
    "# look at num_inhabitants.\n",
    "histogram(district_df, 'num_inhabitants', 100)\n",
    "histogram(district_df, 'num_munipalities_gt499', 100)\n",
    "histogram(district_df, 'num_munipalities_500to1999', 100)\n",
    "histogram(district_df, 'num_munipalities_2000to9999', 100)\n",
    "histogram(district_df, 'num_munipalities_gt10000', 100)\n",
    "histogram(district_df, 'num_cities', 100)\n",
    "histogram(district_df, 'ratio_urban', 100)\n",
    "histogram(district_df, 'average_salary', 100)\n",
    "histogram(district_df, 'unemp_rate95', 20)\n",
    "histogram(district_df, 'unemp_rate96', 20)\n",
    "histogram(district_df, 'num_entrep_per1000', 100)\n",
    "histogram(district_df, 'num_crimes95', 20)\n",
    "histogram(district_df, 'num_crimes96', 20)\n",
    "\n"
   ]
  },
  {
   "cell_type": "code",
   "execution_count": 56,
   "metadata": {
    "scrolled": false
   },
   "outputs": [
    {
     "data": {
      "text/plain": [
       "<matplotlib.axes._subplots.AxesSubplot at 0x7f903e017ac8>"
      ]
     },
     "execution_count": 56,
     "metadata": {},
     "output_type": "execute_result"
    },
    {
     "data": {
      "image/png": "[encoded data removed]",
      "text/plain": [
       "<matplotlib.figure.Figure at 0x7f903c2b3f60>"
      ]
     },
     "metadata": {},
     "output_type": "display_data"
    }
   ],
   "source": [
    "\n",
    "fig, axes = plt.subplots(figsize=(12, 5), sharey=True)\n",
    "district_df.loc[district_df['unemp_rate95'] > 0, ['unemp_rate95', 'unemp_rate96']].boxplot(return_type='axes')\n"
   ]
  },
  {
   "cell_type": "code",
   "execution_count": 57,
   "metadata": {},
   "outputs": [
    {
     "data": {
      "text/plain": [
       "<matplotlib.axes._subplots.AxesSubplot at 0x7f903dfab198>"
      ]
     },
     "execution_count": 57,
     "metadata": {},
     "output_type": "execute_result"
    },
    {
     "data": {
      "image/png": "[encoded data removed]",
      "text/plain": [
       "<matplotlib.figure.Figure at 0x7f903c39c080>"
      ]
     },
     "metadata": {},
     "output_type": "display_data"
    }
   ],
   "source": [
    "# create crime rates per 1000.\n",
    "district_df['crimes_per1000_95'] = district_df['num_crimes95']/district_df['num_inhabitants']*1000\n",
    "district_df['crimes_per1000_96'] = district_df['num_crimes96']/district_df['num_inhabitants']*1000\n",
    "\n",
    "fig, axes = plt.subplots(figsize=(12, 5), sharey=True)\n",
    "district_df.loc[district_df['num_crimes95'] > 0 ,['crimes_per1000_95', 'crimes_per1000_96']].boxplot(return_type='axes')"
   ]
  },
  {
   "cell_type": "code",
   "execution_count": 58,
   "metadata": {},
   "outputs": [
    {
     "data": {
      "text/html": [
       "<div>\n",
       "<style scoped>\n",
       "    .dataframe tbody tr th:only-of-type {\n",
       "        vertical-align: middle;\n",
       "    }\n",
       "\n",
       "    .dataframe tbody tr th {\n",
       "        vertical-align: top;\n",
       "    }\n",
       "\n",
       "    .dataframe thead th {\n",
       "        text-align: right;\n",
       "    }\n",
       "</style>\n",
       "<table border=\"1\" class=\"dataframe\">\n",
       "  <thead>\n",
       "    <tr style=\"text-align: right;\">\n",
       "      <th></th>\n",
       "      <th>client_id</th>\n",
       "      <th>client_district_id</th>\n",
       "      <th>client_age</th>\n",
       "      <th>client_gender</th>\n",
       "    </tr>\n",
       "  </thead>\n",
       "  <tbody>\n",
       "    <tr>\n",
       "      <th>0</th>\n",
       "      <td>1</td>\n",
       "      <td>18</td>\n",
       "      <td>29.071233</td>\n",
       "      <td>F</td>\n",
       "    </tr>\n",
       "    <tr>\n",
       "      <th>1</th>\n",
       "      <td>2</td>\n",
       "      <td>1</td>\n",
       "      <td>54.942466</td>\n",
       "      <td>M</td>\n",
       "    </tr>\n",
       "    <tr>\n",
       "      <th>2</th>\n",
       "      <td>3</td>\n",
       "      <td>1</td>\n",
       "      <td>59.268493</td>\n",
       "      <td>F</td>\n",
       "    </tr>\n",
       "    <tr>\n",
       "      <th>3</th>\n",
       "      <td>4</td>\n",
       "      <td>5</td>\n",
       "      <td>43.112329</td>\n",
       "      <td>M</td>\n",
       "    </tr>\n",
       "    <tr>\n",
       "      <th>4</th>\n",
       "      <td>5</td>\n",
       "      <td>5</td>\n",
       "      <td>39.523288</td>\n",
       "      <td>F</td>\n",
       "    </tr>\n",
       "  </tbody>\n",
       "</table>\n",
       "</div>"
      ],
      "text/plain": [
       "   client_id  client_district_id  client_age client_gender\n",
       "0          1                  18   29.071233             F\n",
       "1          2                   1   54.942466             M\n",
       "2          3                   1   59.268493             F\n",
       "3          4                   5   43.112329             M\n",
       "4          5                   5   39.523288             F"
      ]
     },
     "execution_count": 58,
     "metadata": {},
     "output_type": "execute_result"
    }
   ],
   "source": [
    "client_df.head()"
   ]
  },
  {
   "cell_type": "code",
   "execution_count": 59,
   "metadata": {},
   "outputs": [
    {
     "data": {
      "image/png": "[encoded data removed]",
      "text/plain": [
       "<matplotlib.figure.Figure at 0x7f903e03af98>"
      ]
     },
     "metadata": {},
     "output_type": "display_data"
    },
    {
     "data": {
      "text/plain": [
       "array([<matplotlib.axes._subplots.AxesSubplot object at 0x7f903e34cb70>], dtype=object)"
      ]
     },
     "execution_count": 59,
     "metadata": {},
     "output_type": "execute_result"
    },
    {
     "data": {
      "image/png": "[encoded data removed]",
      "text/plain": [
       "<matplotlib.figure.Figure at 0x7f903df44128>"
      ]
     },
     "metadata": {},
     "output_type": "display_data"
    }
   ],
   "source": [
    "histogram(client_df, 'client_age', 20)\n",
    "client_df['client_gender'].value_counts().plot(kind='bar', subplots=True)"
   ]
  },
  {
   "cell_type": "code",
   "execution_count": 60,
   "metadata": {},
   "outputs": [
    {
     "data": {
      "text/html": [
       "<div>\n",
       "<style scoped>\n",
       "    .dataframe tbody tr th:only-of-type {\n",
       "        vertical-align: middle;\n",
       "    }\n",
       "\n",
       "    .dataframe tbody tr th {\n",
       "        vertical-align: top;\n",
       "    }\n",
       "\n",
       "    .dataframe thead th {\n",
       "        text-align: right;\n",
       "    }\n",
       "</style>\n",
       "<table border=\"1\" class=\"dataframe\">\n",
       "  <thead>\n",
       "    <tr style=\"text-align: right;\">\n",
       "      <th></th>\n",
       "      <th>card_id</th>\n",
       "      <th>disp_id</th>\n",
       "      <th>card_type</th>\n",
       "      <th>card_issued_date</th>\n",
       "    </tr>\n",
       "  </thead>\n",
       "  <tbody>\n",
       "    <tr>\n",
       "      <th>0</th>\n",
       "      <td>1005</td>\n",
       "      <td>9285</td>\n",
       "      <td>classic</td>\n",
       "      <td>310</td>\n",
       "    </tr>\n",
       "    <tr>\n",
       "      <th>1</th>\n",
       "      <td>104</td>\n",
       "      <td>588</td>\n",
       "      <td>classic</td>\n",
       "      <td>383</td>\n",
       "    </tr>\n",
       "    <tr>\n",
       "      <th>2</th>\n",
       "      <td>747</td>\n",
       "      <td>4915</td>\n",
       "      <td>classic</td>\n",
       "      <td>400</td>\n",
       "    </tr>\n",
       "    <tr>\n",
       "      <th>3</th>\n",
       "      <td>70</td>\n",
       "      <td>439</td>\n",
       "      <td>classic</td>\n",
       "      <td>403</td>\n",
       "    </tr>\n",
       "    <tr>\n",
       "      <th>4</th>\n",
       "      <td>577</td>\n",
       "      <td>3687</td>\n",
       "      <td>classic</td>\n",
       "      <td>410</td>\n",
       "    </tr>\n",
       "  </tbody>\n",
       "</table>\n",
       "</div>"
      ],
      "text/plain": [
       "   card_id  disp_id card_type  card_issued_date\n",
       "0     1005     9285   classic               310\n",
       "1      104      588   classic               383\n",
       "2      747     4915   classic               400\n",
       "3       70      439   classic               403\n",
       "4      577     3687   classic               410"
      ]
     },
     "execution_count": 60,
     "metadata": {},
     "output_type": "execute_result"
    }
   ],
   "source": [
    "card_df.head()"
   ]
  },
  {
   "cell_type": "code",
   "execution_count": 61,
   "metadata": {},
   "outputs": [
    {
     "data": {
      "image/png": "[encoded data removed]",
      "text/plain": [
       "<matplotlib.figure.Figure at 0x7f903bf08588>"
      ]
     },
     "metadata": {},
     "output_type": "display_data"
    },
    {
     "data": {
      "text/plain": [
       "array([<matplotlib.axes._subplots.AxesSubplot object at 0x7f903e4009b0>], dtype=object)"
      ]
     },
     "execution_count": 61,
     "metadata": {},
     "output_type": "execute_result"
    },
    {
     "data": {
      "image/png": "[encoded data removed]",
      "text/plain": [
       "<matplotlib.figure.Figure at 0x7f903c029ef0>"
      ]
     },
     "metadata": {},
     "output_type": "display_data"
    }
   ],
   "source": [
    "histogram(card_df, 'card_issued_date', 100)\n",
    "card_df['card_type'].value_counts().plot(kind='bar', subplots=True)"
   ]
  },
  {
   "cell_type": "code",
   "execution_count": 62,
   "metadata": {},
   "outputs": [
    {
     "data": {
      "text/html": [
       "<div>\n",
       "<style scoped>\n",
       "    .dataframe tbody tr th:only-of-type {\n",
       "        vertical-align: middle;\n",
       "    }\n",
       "\n",
       "    .dataframe tbody tr th {\n",
       "        vertical-align: top;\n",
       "    }\n",
       "\n",
       "    .dataframe thead th {\n",
       "        text-align: right;\n",
       "    }\n",
       "</style>\n",
       "<table border=\"1\" class=\"dataframe\">\n",
       "  <thead>\n",
       "    <tr style=\"text-align: right;\">\n",
       "      <th></th>\n",
       "      <th>account_id</th>\n",
       "      <th>account_district_id</th>\n",
       "      <th>statement_freq</th>\n",
       "      <th>account_date_opened</th>\n",
       "    </tr>\n",
       "  </thead>\n",
       "  <tbody>\n",
       "    <tr>\n",
       "      <th>0</th>\n",
       "      <td>576</td>\n",
       "      <td>55</td>\n",
       "      <td>MONTHLY</td>\n",
       "      <td>0</td>\n",
       "    </tr>\n",
       "    <tr>\n",
       "      <th>1</th>\n",
       "      <td>3818</td>\n",
       "      <td>74</td>\n",
       "      <td>MONTHLY</td>\n",
       "      <td>0</td>\n",
       "    </tr>\n",
       "    <tr>\n",
       "      <th>2</th>\n",
       "      <td>704</td>\n",
       "      <td>55</td>\n",
       "      <td>MONTHLY</td>\n",
       "      <td>0</td>\n",
       "    </tr>\n",
       "    <tr>\n",
       "      <th>3</th>\n",
       "      <td>2378</td>\n",
       "      <td>16</td>\n",
       "      <td>MONTHLY</td>\n",
       "      <td>0</td>\n",
       "    </tr>\n",
       "    <tr>\n",
       "      <th>4</th>\n",
       "      <td>2632</td>\n",
       "      <td>24</td>\n",
       "      <td>MONTHLY</td>\n",
       "      <td>1</td>\n",
       "    </tr>\n",
       "  </tbody>\n",
       "</table>\n",
       "</div>"
      ],
      "text/plain": [
       "   account_id  account_district_id statement_freq  account_date_opened\n",
       "0         576                   55        MONTHLY                    0\n",
       "1        3818                   74        MONTHLY                    0\n",
       "2         704                   55        MONTHLY                    0\n",
       "3        2378                   16        MONTHLY                    0\n",
       "4        2632                   24        MONTHLY                    1"
      ]
     },
     "execution_count": 62,
     "metadata": {},
     "output_type": "execute_result"
    }
   ],
   "source": [
    "account_df.head()"
   ]
  },
  {
   "cell_type": "code",
   "execution_count": 63,
   "metadata": {},
   "outputs": [
    {
     "data": {
      "image/png": "[encoded data removed]",
      "text/plain": [
       "<matplotlib.figure.Figure at 0x7f903df7f128>"
      ]
     },
     "metadata": {},
     "output_type": "display_data"
    },
    {
     "data": {
      "text/plain": [
       "array([<matplotlib.axes._subplots.AxesSubplot object at 0x7f903e07e630>], dtype=object)"
      ]
     },
     "execution_count": 63,
     "metadata": {},
     "output_type": "execute_result"
    },
    {
     "data": {
      "image/png": "[encoded data removed]",
      "text/plain": [
       "<matplotlib.figure.Figure at 0x7f903bec1240>"
      ]
     },
     "metadata": {},
     "output_type": "display_data"
    }
   ],
   "source": [
    "histogram(account_df, 'account_date_opened', 100)\n",
    "account_df['statement_freq'].value_counts().plot(kind='bar', subplots=True)"
   ]
  },
  {
   "cell_type": "code",
   "execution_count": 65,
   "metadata": {},
   "outputs": [],
   "source": [
    "account_df.to_pickle('data/account.pkl')\n",
    "loan_df.to_pickle('data/loan.pkl')\n",
    "order_df.to_pickle('data/order.pkl')\n",
    "trans_df.to_pickle('data/trans.pkl')\n",
    "disp_df.to_pickle('data/disp.pkl')\n",
    "district_df.to_pickle('data/district.pkl')\n",
    "client_df.to_pickle('data/client.pkl')\n",
    "card_df.to_pickle('data/card.pkl')"
   ]
  },
  {
   "cell_type": "code",
   "execution_count": null,
   "metadata": {},
   "outputs": [],
   "source": []
  }
 ],
 "metadata": {
  "kernelspec": {
   "display_name": "Python 3",
   "language": "python",
   "name": "python3"
  },
  "language_info": {
   "codemirror_mode": {
    "name": "ipython",
    "version": 3
   },
   "file_extension": ".py",
   "mimetype": "text/x-python",
   "name": "python",
   "nbconvert_exporter": "python",
   "pygments_lexer": "ipython3",
   "version": "3.6.3"
  }
 },
 "nbformat": 4,
 "nbformat_minor": 2
}
